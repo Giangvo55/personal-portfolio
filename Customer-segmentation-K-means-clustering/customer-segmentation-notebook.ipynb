{
  "nbformat": 4,
  "nbformat_minor": 0,
  "metadata": {
    "colab": {
      "name": "RFM Analysis with K-Means clustering.ipynb",
      "provenance": [],
      "collapsed_sections": [
        "RkR0J1n5jIkl",
        "9rg-VT5vjIoL",
        "lX2d_bIBjKaS",
        "5OL5lKPlSt8H",
        "sx20OOyOSy6G",
        "SHGYTZp6Yhf3",
        "r05h8xLjabWf",
        "TWw87B4GguHR",
        "ITnRcKB_jmYN",
        "gwJ7-SHvmhe2",
        "rRaBuTzhdVEU"
      ]
    },
    "kernelspec": {
      "name": "python3",
      "display_name": "Python 3"
    },
    "language_info": {
      "name": "python"
    }
  },
  "cells": [
    {
      "cell_type": "markdown",
      "source": [
        "# **0. Import library**"
      ],
      "metadata": {
        "id": "RkR0J1n5jIkl"
      }
    },
    {
      "cell_type": "code",
      "source": [
        "!pip install squarify"
      ],
      "metadata": {
        "colab": {
          "base_uri": "https://localhost:8080/"
        },
        "id": "1XIq_pqdQ7l5",
        "outputId": "0be9389a-6188-485a-eb07-1b66d52c1bc1"
      },
      "execution_count": 1,
      "outputs": [
        {
          "output_type": "stream",
          "name": "stdout",
          "text": [
            "Looking in indexes: https://pypi.org/simple, https://us-python.pkg.dev/colab-wheels/public/simple/\n",
            "Collecting squarify\n",
            "  Downloading squarify-0.4.3-py3-none-any.whl (4.3 kB)\n",
            "Installing collected packages: squarify\n",
            "Successfully installed squarify-0.4.3\n"
          ]
        }
      ]
    },
    {
      "cell_type": "code",
      "source": [
        "import pandas as pd \n",
        "import numpy as np\n",
        "import matplotlib.pyplot as plt\n",
        "import matplotlib.dates as mdates\n",
        "import seaborn as sns\n",
        "import plotly as py\n",
        "import plotly.graph_objs as go\n",
        "from datetime import datetime, timedelta\n",
        "import re\n",
        "import squarify\n",
        "\n",
        "from sklearn.preprocessing import StandardScaler\n",
        "from sklearn.cluster import KMeans\n",
        "\n",
        "%matplotlib inline\n"
      ],
      "metadata": {
        "id": "iMUjLJ0cj3ux"
      },
      "execution_count": 2,
      "outputs": []
    },
    {
      "cell_type": "markdown",
      "source": [
        "# **1. Import data**"
      ],
      "metadata": {
        "id": "9rg-VT5vjIoL"
      }
    },
    {
      "cell_type": "code",
      "source": [
        "!wget 'https://raw.githubusercontent.com/Giangvo55/final-project-DAwP/main/data/Olist_Master.csv'"
      ],
      "metadata": {
        "colab": {
          "base_uri": "https://localhost:8080/"
        },
        "id": "NCyrRW9pLj7b",
        "outputId": "0d224beb-2f4f-4861-92fb-e23bbbeb0cb8"
      },
      "execution_count": 3,
      "outputs": [
        {
          "output_type": "stream",
          "name": "stdout",
          "text": [
            "--2022-06-08 09:04:08--  https://raw.githubusercontent.com/Giangvo55/final-project-DAwP/main/data/Olist_Master.csv\n",
            "Resolving raw.githubusercontent.com (raw.githubusercontent.com)... 185.199.108.133, 185.199.109.133, 185.199.110.133, ...\n",
            "Connecting to raw.githubusercontent.com (raw.githubusercontent.com)|185.199.108.133|:443... connected.\n",
            "HTTP request sent, awaiting response... 200 OK\n",
            "Length: 47814793 (46M) [text/plain]\n",
            "Saving to: ‘Olist_Master.csv’\n",
            "\n",
            "Olist_Master.csv    100%[===================>]  45.60M   196MB/s    in 0.2s    \n",
            "\n",
            "2022-06-08 09:04:09 (196 MB/s) - ‘Olist_Master.csv’ saved [47814793/47814793]\n",
            "\n"
          ]
        }
      ]
    },
    {
      "cell_type": "code",
      "source": [
        "data = pd.read_csv('Olist_Master.csv')"
      ],
      "metadata": {
        "id": "6HtpTD9qARxb"
      },
      "execution_count": 4,
      "outputs": []
    },
    {
      "cell_type": "markdown",
      "source": [
        "# **2. Data pre-processing**"
      ],
      "metadata": {
        "id": "lX2d_bIBjKaS"
      }
    },
    {
      "cell_type": "markdown",
      "source": [
        "## 2.1 Understand the content of the data"
      ],
      "metadata": {
        "id": "5OL5lKPlSt8H"
      }
    },
    {
      "cell_type": "code",
      "source": [
        "data.info()"
      ],
      "metadata": {
        "colab": {
          "base_uri": "https://localhost:8080/"
        },
        "id": "NeZScF1MMhCs",
        "outputId": "1af4de13-f4ef-4f48-9205-1efbaa3fedaa"
      },
      "execution_count": 5,
      "outputs": [
        {
          "output_type": "stream",
          "name": "stdout",
          "text": [
            "<class 'pandas.core.frame.DataFrame'>\n",
            "RangeIndex: 116581 entries, 0 to 116580\n",
            "Data columns (total 34 columns):\n",
            " #   Column                         Non-Null Count   Dtype  \n",
            "---  ------                         --------------   -----  \n",
            " 0   order_id                       116581 non-null  object \n",
            " 1   order_item_id                  116581 non-null  int64  \n",
            " 2   product_id                     116581 non-null  object \n",
            " 3   seller_id                      116581 non-null  object \n",
            " 4   shipping_limit_date            116581 non-null  object \n",
            " 5   price                          116581 non-null  float64\n",
            " 6   freight_value                  116581 non-null  float64\n",
            " 7   payment_sequential             116581 non-null  int64  \n",
            " 8   payment_type                   116581 non-null  object \n",
            " 9   payment_installments           116581 non-null  int64  \n",
            " 10  payment_value                  116581 non-null  float64\n",
            " 11  product_category_name          116581 non-null  object \n",
            " 12  seller_zip_code_prefix         116581 non-null  int64  \n",
            " 13  seller_city                    116581 non-null  object \n",
            " 14  seller_state                   116581 non-null  object \n",
            " 15  review_id                      116581 non-null  object \n",
            " 16  review_score                   116581 non-null  int64  \n",
            " 17  review_creation_date           116581 non-null  object \n",
            " 18  review_answer_timestamp        116581 non-null  object \n",
            " 19  customer_id                    116581 non-null  object \n",
            " 20  order_status                   116581 non-null  object \n",
            " 21  order_purchase_timestamp       116581 non-null  object \n",
            " 22  order_estimated_delivery_date  116581 non-null  object \n",
            " 23  customer_zip_code_prefix       116581 non-null  int64  \n",
            " 24  customer_city                  116581 non-null  object \n",
            " 25  customer_state                 116581 non-null  object \n",
            " 26  customer_unique_id             116581 non-null  object \n",
            " 27  review_response_time           116581 non-null  int64  \n",
            " 28  order_purchase_year            116581 non-null  int64  \n",
            " 29  order_purchase_month           116581 non-null  int64  \n",
            " 30  order_purchase_dayofweek       116581 non-null  int64  \n",
            " 31  order_purchase_hour            116581 non-null  int64  \n",
            " 32  order_purchase_day             116581 non-null  object \n",
            " 33  order_purchase_mon             116581 non-null  object \n",
            "dtypes: float64(3), int64(11), object(20)\n",
            "memory usage: 30.2+ MB\n"
          ]
        }
      ]
    },
    {
      "cell_type": "markdown",
      "source": [
        "In this dataset, we have 102425 of historical order from 2016 - 2018 in Brazil E-commrce website Olist"
      ],
      "metadata": {
        "id": "B1_U-WbOMjck"
      }
    },
    {
      "cell_type": "markdown",
      "source": [
        "Let's see first 5 rows of dataset"
      ],
      "metadata": {
        "id": "0la8Wao_NKUy"
      }
    },
    {
      "cell_type": "code",
      "source": [
        "data.head()"
      ],
      "metadata": {
        "colab": {
          "base_uri": "https://localhost:8080/",
          "height": 369
        },
        "id": "6nmKiiCANO2D",
        "outputId": "dbada4d9-eb05-45fb-ac31-96c463cefc05"
      },
      "execution_count": 6,
      "outputs": [
        {
          "output_type": "execute_result",
          "data": {
            "text/plain": [
              "                           order_id  order_item_id  \\\n",
              "0  00010242fe8c5a6d1ba2dd792cb16214              1   \n",
              "1  130898c0987d1801452a8ed92a670612              1   \n",
              "2  532ed5e14e24ae1f0d735b91524b98b9              1   \n",
              "3  6f8c31653edb8c83e1a739408b5ff750              1   \n",
              "4  7d19f4ef4d04461989632411b7e588b9              1   \n",
              "\n",
              "                         product_id                         seller_id  \\\n",
              "0  4244733e06e7ecb4970a6e2683c13e61  48436dade18ac8b2bce089ec2a041202   \n",
              "1  4244733e06e7ecb4970a6e2683c13e61  48436dade18ac8b2bce089ec2a041202   \n",
              "2  4244733e06e7ecb4970a6e2683c13e61  48436dade18ac8b2bce089ec2a041202   \n",
              "3  4244733e06e7ecb4970a6e2683c13e61  48436dade18ac8b2bce089ec2a041202   \n",
              "4  4244733e06e7ecb4970a6e2683c13e61  48436dade18ac8b2bce089ec2a041202   \n",
              "\n",
              "   shipping_limit_date  price  freight_value  payment_sequential payment_type  \\\n",
              "0  2017-09-19 09:45:35   58.9          13.29                   1  Credit Card   \n",
              "1  2017-07-05 02:44:11   55.9          17.96                   1       Boleto   \n",
              "2  2018-05-23 10:56:25   64.9          18.33                   1  Credit Card   \n",
              "3  2017-08-07 18:55:08   58.9          16.17                   1  Credit Card   \n",
              "4  2017-08-16 22:05:11   58.9          13.29                   1  Credit Card   \n",
              "\n",
              "   payment_installments  ...          customer_city customer_state  \\\n",
              "0                     2  ...  Campos Dos Goytacazes             RJ   \n",
              "1                     1  ...                  Jatai             GO   \n",
              "2                     2  ...         Belo Horizonte             MG   \n",
              "3                     3  ...   Sao Jose Dos Pinhais             PR   \n",
              "4                     4  ...   Conselheiro Lafaiete             MG   \n",
              "\n",
              "                 customer_unique_id review_response_time order_purchase_year  \\\n",
              "0  5ee8fe956c2631afc0a1dcc1920d0e3d                    1                2017   \n",
              "1  8b3f917f4307d3e5cf34c0b43d6e6f50                    3                2017   \n",
              "2  69ba88e17ea574da9c9b8c8834a583d1                    1                2018   \n",
              "3  cbe063493a222cb17024ff0285b4ecb6                    3                2017   \n",
              "4  ffab5330bd7b40979ab6726b2e02292e                    3                2017   \n",
              "\n",
              "  order_purchase_month  order_purchase_dayofweek order_purchase_hour  \\\n",
              "0                    9                         2                   8   \n",
              "1                    6                         2                  11   \n",
              "2                    5                         4                  10   \n",
              "3                    8                         1                  18   \n",
              "4                    8                         3                  21   \n",
              "\n",
              "  order_purchase_day order_purchase_mon  \n",
              "0                Wed                Sep  \n",
              "1                Wed                Jun  \n",
              "2                Fri                May  \n",
              "3                Tue                Aug  \n",
              "4                Thu                Aug  \n",
              "\n",
              "[5 rows x 34 columns]"
            ],
            "text/html": [
              "\n",
              "  <div id=\"df-a11d5575-52d5-4546-9ead-0ed012c95b33\">\n",
              "    <div class=\"colab-df-container\">\n",
              "      <div>\n",
              "<style scoped>\n",
              "    .dataframe tbody tr th:only-of-type {\n",
              "        vertical-align: middle;\n",
              "    }\n",
              "\n",
              "    .dataframe tbody tr th {\n",
              "        vertical-align: top;\n",
              "    }\n",
              "\n",
              "    .dataframe thead th {\n",
              "        text-align: right;\n",
              "    }\n",
              "</style>\n",
              "<table border=\"1\" class=\"dataframe\">\n",
              "  <thead>\n",
              "    <tr style=\"text-align: right;\">\n",
              "      <th></th>\n",
              "      <th>order_id</th>\n",
              "      <th>order_item_id</th>\n",
              "      <th>product_id</th>\n",
              "      <th>seller_id</th>\n",
              "      <th>shipping_limit_date</th>\n",
              "      <th>price</th>\n",
              "      <th>freight_value</th>\n",
              "      <th>payment_sequential</th>\n",
              "      <th>payment_type</th>\n",
              "      <th>payment_installments</th>\n",
              "      <th>...</th>\n",
              "      <th>customer_city</th>\n",
              "      <th>customer_state</th>\n",
              "      <th>customer_unique_id</th>\n",
              "      <th>review_response_time</th>\n",
              "      <th>order_purchase_year</th>\n",
              "      <th>order_purchase_month</th>\n",
              "      <th>order_purchase_dayofweek</th>\n",
              "      <th>order_purchase_hour</th>\n",
              "      <th>order_purchase_day</th>\n",
              "      <th>order_purchase_mon</th>\n",
              "    </tr>\n",
              "  </thead>\n",
              "  <tbody>\n",
              "    <tr>\n",
              "      <th>0</th>\n",
              "      <td>00010242fe8c5a6d1ba2dd792cb16214</td>\n",
              "      <td>1</td>\n",
              "      <td>4244733e06e7ecb4970a6e2683c13e61</td>\n",
              "      <td>48436dade18ac8b2bce089ec2a041202</td>\n",
              "      <td>2017-09-19 09:45:35</td>\n",
              "      <td>58.9</td>\n",
              "      <td>13.29</td>\n",
              "      <td>1</td>\n",
              "      <td>Credit Card</td>\n",
              "      <td>2</td>\n",
              "      <td>...</td>\n",
              "      <td>Campos Dos Goytacazes</td>\n",
              "      <td>RJ</td>\n",
              "      <td>5ee8fe956c2631afc0a1dcc1920d0e3d</td>\n",
              "      <td>1</td>\n",
              "      <td>2017</td>\n",
              "      <td>9</td>\n",
              "      <td>2</td>\n",
              "      <td>8</td>\n",
              "      <td>Wed</td>\n",
              "      <td>Sep</td>\n",
              "    </tr>\n",
              "    <tr>\n",
              "      <th>1</th>\n",
              "      <td>130898c0987d1801452a8ed92a670612</td>\n",
              "      <td>1</td>\n",
              "      <td>4244733e06e7ecb4970a6e2683c13e61</td>\n",
              "      <td>48436dade18ac8b2bce089ec2a041202</td>\n",
              "      <td>2017-07-05 02:44:11</td>\n",
              "      <td>55.9</td>\n",
              "      <td>17.96</td>\n",
              "      <td>1</td>\n",
              "      <td>Boleto</td>\n",
              "      <td>1</td>\n",
              "      <td>...</td>\n",
              "      <td>Jatai</td>\n",
              "      <td>GO</td>\n",
              "      <td>8b3f917f4307d3e5cf34c0b43d6e6f50</td>\n",
              "      <td>3</td>\n",
              "      <td>2017</td>\n",
              "      <td>6</td>\n",
              "      <td>2</td>\n",
              "      <td>11</td>\n",
              "      <td>Wed</td>\n",
              "      <td>Jun</td>\n",
              "    </tr>\n",
              "    <tr>\n",
              "      <th>2</th>\n",
              "      <td>532ed5e14e24ae1f0d735b91524b98b9</td>\n",
              "      <td>1</td>\n",
              "      <td>4244733e06e7ecb4970a6e2683c13e61</td>\n",
              "      <td>48436dade18ac8b2bce089ec2a041202</td>\n",
              "      <td>2018-05-23 10:56:25</td>\n",
              "      <td>64.9</td>\n",
              "      <td>18.33</td>\n",
              "      <td>1</td>\n",
              "      <td>Credit Card</td>\n",
              "      <td>2</td>\n",
              "      <td>...</td>\n",
              "      <td>Belo Horizonte</td>\n",
              "      <td>MG</td>\n",
              "      <td>69ba88e17ea574da9c9b8c8834a583d1</td>\n",
              "      <td>1</td>\n",
              "      <td>2018</td>\n",
              "      <td>5</td>\n",
              "      <td>4</td>\n",
              "      <td>10</td>\n",
              "      <td>Fri</td>\n",
              "      <td>May</td>\n",
              "    </tr>\n",
              "    <tr>\n",
              "      <th>3</th>\n",
              "      <td>6f8c31653edb8c83e1a739408b5ff750</td>\n",
              "      <td>1</td>\n",
              "      <td>4244733e06e7ecb4970a6e2683c13e61</td>\n",
              "      <td>48436dade18ac8b2bce089ec2a041202</td>\n",
              "      <td>2017-08-07 18:55:08</td>\n",
              "      <td>58.9</td>\n",
              "      <td>16.17</td>\n",
              "      <td>1</td>\n",
              "      <td>Credit Card</td>\n",
              "      <td>3</td>\n",
              "      <td>...</td>\n",
              "      <td>Sao Jose Dos Pinhais</td>\n",
              "      <td>PR</td>\n",
              "      <td>cbe063493a222cb17024ff0285b4ecb6</td>\n",
              "      <td>3</td>\n",
              "      <td>2017</td>\n",
              "      <td>8</td>\n",
              "      <td>1</td>\n",
              "      <td>18</td>\n",
              "      <td>Tue</td>\n",
              "      <td>Aug</td>\n",
              "    </tr>\n",
              "    <tr>\n",
              "      <th>4</th>\n",
              "      <td>7d19f4ef4d04461989632411b7e588b9</td>\n",
              "      <td>1</td>\n",
              "      <td>4244733e06e7ecb4970a6e2683c13e61</td>\n",
              "      <td>48436dade18ac8b2bce089ec2a041202</td>\n",
              "      <td>2017-08-16 22:05:11</td>\n",
              "      <td>58.9</td>\n",
              "      <td>13.29</td>\n",
              "      <td>1</td>\n",
              "      <td>Credit Card</td>\n",
              "      <td>4</td>\n",
              "      <td>...</td>\n",
              "      <td>Conselheiro Lafaiete</td>\n",
              "      <td>MG</td>\n",
              "      <td>ffab5330bd7b40979ab6726b2e02292e</td>\n",
              "      <td>3</td>\n",
              "      <td>2017</td>\n",
              "      <td>8</td>\n",
              "      <td>3</td>\n",
              "      <td>21</td>\n",
              "      <td>Thu</td>\n",
              "      <td>Aug</td>\n",
              "    </tr>\n",
              "  </tbody>\n",
              "</table>\n",
              "<p>5 rows × 34 columns</p>\n",
              "</div>\n",
              "      <button class=\"colab-df-convert\" onclick=\"convertToInteractive('df-a11d5575-52d5-4546-9ead-0ed012c95b33')\"\n",
              "              title=\"Convert this dataframe to an interactive table.\"\n",
              "              style=\"display:none;\">\n",
              "        \n",
              "  <svg xmlns=\"http://www.w3.org/2000/svg\" height=\"24px\"viewBox=\"0 0 24 24\"\n",
              "       width=\"24px\">\n",
              "    <path d=\"M0 0h24v24H0V0z\" fill=\"none\"/>\n",
              "    <path d=\"M18.56 5.44l.94 2.06.94-2.06 2.06-.94-2.06-.94-.94-2.06-.94 2.06-2.06.94zm-11 1L8.5 8.5l.94-2.06 2.06-.94-2.06-.94L8.5 2.5l-.94 2.06-2.06.94zm10 10l.94 2.06.94-2.06 2.06-.94-2.06-.94-.94-2.06-.94 2.06-2.06.94z\"/><path d=\"M17.41 7.96l-1.37-1.37c-.4-.4-.92-.59-1.43-.59-.52 0-1.04.2-1.43.59L10.3 9.45l-7.72 7.72c-.78.78-.78 2.05 0 2.83L4 21.41c.39.39.9.59 1.41.59.51 0 1.02-.2 1.41-.59l7.78-7.78 2.81-2.81c.8-.78.8-2.07 0-2.86zM5.41 20L4 18.59l7.72-7.72 1.47 1.35L5.41 20z\"/>\n",
              "  </svg>\n",
              "      </button>\n",
              "      \n",
              "  <style>\n",
              "    .colab-df-container {\n",
              "      display:flex;\n",
              "      flex-wrap:wrap;\n",
              "      gap: 12px;\n",
              "    }\n",
              "\n",
              "    .colab-df-convert {\n",
              "      background-color: #E8F0FE;\n",
              "      border: none;\n",
              "      border-radius: 50%;\n",
              "      cursor: pointer;\n",
              "      display: none;\n",
              "      fill: #1967D2;\n",
              "      height: 32px;\n",
              "      padding: 0 0 0 0;\n",
              "      width: 32px;\n",
              "    }\n",
              "\n",
              "    .colab-df-convert:hover {\n",
              "      background-color: #E2EBFA;\n",
              "      box-shadow: 0px 1px 2px rgba(60, 64, 67, 0.3), 0px 1px 3px 1px rgba(60, 64, 67, 0.15);\n",
              "      fill: #174EA6;\n",
              "    }\n",
              "\n",
              "    [theme=dark] .colab-df-convert {\n",
              "      background-color: #3B4455;\n",
              "      fill: #D2E3FC;\n",
              "    }\n",
              "\n",
              "    [theme=dark] .colab-df-convert:hover {\n",
              "      background-color: #434B5C;\n",
              "      box-shadow: 0px 1px 3px 1px rgba(0, 0, 0, 0.15);\n",
              "      filter: drop-shadow(0px 1px 2px rgba(0, 0, 0, 0.3));\n",
              "      fill: #FFFFFF;\n",
              "    }\n",
              "  </style>\n",
              "\n",
              "      <script>\n",
              "        const buttonEl =\n",
              "          document.querySelector('#df-a11d5575-52d5-4546-9ead-0ed012c95b33 button.colab-df-convert');\n",
              "        buttonEl.style.display =\n",
              "          google.colab.kernel.accessAllowed ? 'block' : 'none';\n",
              "\n",
              "        async function convertToInteractive(key) {\n",
              "          const element = document.querySelector('#df-a11d5575-52d5-4546-9ead-0ed012c95b33');\n",
              "          const dataTable =\n",
              "            await google.colab.kernel.invokeFunction('convertToInteractive',\n",
              "                                                     [key], {});\n",
              "          if (!dataTable) return;\n",
              "\n",
              "          const docLinkHtml = 'Like what you see? Visit the ' +\n",
              "            '<a target=\"_blank\" href=https://colab.research.google.com/notebooks/data_table.ipynb>data table notebook</a>'\n",
              "            + ' to learn more about interactive tables.';\n",
              "          element.innerHTML = '';\n",
              "          dataTable['output_type'] = 'display_data';\n",
              "          await google.colab.output.renderOutput(dataTable, element);\n",
              "          const docLink = document.createElement('div');\n",
              "          docLink.innerHTML = docLinkHtml;\n",
              "          element.appendChild(docLink);\n",
              "        }\n",
              "      </script>\n",
              "    </div>\n",
              "  </div>\n",
              "  "
            ]
          },
          "metadata": {},
          "execution_count": 6
        }
      ]
    },
    {
      "cell_type": "markdown",
      "source": [
        "First, we get some columns that we need for our next steps such as: customer_id, order_id, order_status, order_purchase_timestamp, product_id, qty, price. "
      ],
      "metadata": {
        "id": "N00paYD3YWPP"
      }
    },
    {
      "cell_type": "code",
      "source": [
        "df_orders = data[['order_id', 'order_status', 'order_purchase_timestamp',\n",
        "       'payment_value', 'customer_unique_id', 'customer_zip_code_prefix',\n",
        "       'customer_city', 'customer_state']].copy()"
      ],
      "metadata": {
        "id": "vbc82_atX_Hb"
      },
      "execution_count": 7,
      "outputs": []
    },
    {
      "cell_type": "code",
      "source": [
        "df_orders.info()"
      ],
      "metadata": {
        "id": "Onkwx1mYtA-U",
        "outputId": "6663e109-8bed-486e-9c6d-686eb2ab7ef7",
        "colab": {
          "base_uri": "https://localhost:8080/"
        }
      },
      "execution_count": 8,
      "outputs": [
        {
          "output_type": "stream",
          "name": "stdout",
          "text": [
            "<class 'pandas.core.frame.DataFrame'>\n",
            "RangeIndex: 116581 entries, 0 to 116580\n",
            "Data columns (total 8 columns):\n",
            " #   Column                    Non-Null Count   Dtype  \n",
            "---  ------                    --------------   -----  \n",
            " 0   order_id                  116581 non-null  object \n",
            " 1   order_status              116581 non-null  object \n",
            " 2   order_purchase_timestamp  116581 non-null  object \n",
            " 3   payment_value             116581 non-null  float64\n",
            " 4   customer_unique_id        116581 non-null  object \n",
            " 5   customer_zip_code_prefix  116581 non-null  int64  \n",
            " 6   customer_city             116581 non-null  object \n",
            " 7   customer_state            116581 non-null  object \n",
            "dtypes: float64(1), int64(1), object(6)\n",
            "memory usage: 7.1+ MB\n"
          ]
        }
      ]
    },
    {
      "cell_type": "code",
      "source": [
        "df_orders"
      ],
      "metadata": {
        "colab": {
          "base_uri": "https://localhost:8080/",
          "height": 485
        },
        "id": "ZSaayVCWPPSd",
        "outputId": "43aaff81-5ee5-41b0-8045-bea45602d481"
      },
      "execution_count": 9,
      "outputs": [
        {
          "output_type": "execute_result",
          "data": {
            "text/plain": [
              "                                order_id order_status  \\\n",
              "0       00010242fe8c5a6d1ba2dd792cb16214    delivered   \n",
              "1       130898c0987d1801452a8ed92a670612    delivered   \n",
              "2       532ed5e14e24ae1f0d735b91524b98b9    delivered   \n",
              "3       6f8c31653edb8c83e1a739408b5ff750    delivered   \n",
              "4       7d19f4ef4d04461989632411b7e588b9    delivered   \n",
              "...                                  ...          ...   \n",
              "116576  fdaf98feac227eb978d8f33f36e0231d    delivered   \n",
              "116577  fe68b52db13993f58175fa589125d345    delivered   \n",
              "116578  fefacc66af859508bf1a7934eab1e97f    delivered   \n",
              "116579  ff701a7c869ad21de22a6994237c8a00    delivered   \n",
              "116580  ff701a7c869ad21de22a6994237c8a00    delivered   \n",
              "\n",
              "       order_purchase_timestamp  payment_value  \\\n",
              "0           2017-09-13 08:59:02          72.19   \n",
              "1           2017-06-28 11:52:20          73.86   \n",
              "2           2018-05-18 10:25:53          83.23   \n",
              "3           2017-08-01 18:38:42          75.07   \n",
              "4           2017-08-10 21:48:40          72.19   \n",
              "...                         ...            ...   \n",
              "116576      2017-04-19 10:20:51         136.04   \n",
              "116577      2017-08-11 10:15:22         225.21   \n",
              "116578      2018-07-25 18:10:17        6922.21   \n",
              "116579      2018-04-12 19:47:40          84.68   \n",
              "116580      2018-04-12 19:47:40          84.68   \n",
              "\n",
              "                      customer_unique_id  customer_zip_code_prefix  \\\n",
              "0       5ee8fe956c2631afc0a1dcc1920d0e3d                     28013   \n",
              "1       8b3f917f4307d3e5cf34c0b43d6e6f50                     75800   \n",
              "2       69ba88e17ea574da9c9b8c8834a583d1                     30720   \n",
              "3       cbe063493a222cb17024ff0285b4ecb6                     83070   \n",
              "4       ffab5330bd7b40979ab6726b2e02292e                     36400   \n",
              "...                                  ...                       ...   \n",
              "116576  e060eb8f37de232154b24bbb2413b68e                     22793   \n",
              "116577  3041f5d65c4fa516eed1325d7a8657af                     13485   \n",
              "116578  57b628f46c00f9a7358e5e875d5b4dd0                     29066   \n",
              "116579  ea4d52b176423e61a84052b0f4717be9                     12280   \n",
              "116580  ea4d52b176423e61a84052b0f4717be9                     12280   \n",
              "\n",
              "                customer_city customer_state  \n",
              "0       Campos Dos Goytacazes             RJ  \n",
              "1                       Jatai             GO  \n",
              "2              Belo Horizonte             MG  \n",
              "3        Sao Jose Dos Pinhais             PR  \n",
              "4        Conselheiro Lafaiete             MG  \n",
              "...                       ...            ...  \n",
              "116576         Rio De Janeiro             RJ  \n",
              "116577                Limeira             SP  \n",
              "116578                Vitoria             ES  \n",
              "116579               Cacapava             SP  \n",
              "116580               Cacapava             SP  \n",
              "\n",
              "[116581 rows x 8 columns]"
            ],
            "text/html": [
              "\n",
              "  <div id=\"df-f9ee8891-3622-4428-9dfe-1da1f6257265\">\n",
              "    <div class=\"colab-df-container\">\n",
              "      <div>\n",
              "<style scoped>\n",
              "    .dataframe tbody tr th:only-of-type {\n",
              "        vertical-align: middle;\n",
              "    }\n",
              "\n",
              "    .dataframe tbody tr th {\n",
              "        vertical-align: top;\n",
              "    }\n",
              "\n",
              "    .dataframe thead th {\n",
              "        text-align: right;\n",
              "    }\n",
              "</style>\n",
              "<table border=\"1\" class=\"dataframe\">\n",
              "  <thead>\n",
              "    <tr style=\"text-align: right;\">\n",
              "      <th></th>\n",
              "      <th>order_id</th>\n",
              "      <th>order_status</th>\n",
              "      <th>order_purchase_timestamp</th>\n",
              "      <th>payment_value</th>\n",
              "      <th>customer_unique_id</th>\n",
              "      <th>customer_zip_code_prefix</th>\n",
              "      <th>customer_city</th>\n",
              "      <th>customer_state</th>\n",
              "    </tr>\n",
              "  </thead>\n",
              "  <tbody>\n",
              "    <tr>\n",
              "      <th>0</th>\n",
              "      <td>00010242fe8c5a6d1ba2dd792cb16214</td>\n",
              "      <td>delivered</td>\n",
              "      <td>2017-09-13 08:59:02</td>\n",
              "      <td>72.19</td>\n",
              "      <td>5ee8fe956c2631afc0a1dcc1920d0e3d</td>\n",
              "      <td>28013</td>\n",
              "      <td>Campos Dos Goytacazes</td>\n",
              "      <td>RJ</td>\n",
              "    </tr>\n",
              "    <tr>\n",
              "      <th>1</th>\n",
              "      <td>130898c0987d1801452a8ed92a670612</td>\n",
              "      <td>delivered</td>\n",
              "      <td>2017-06-28 11:52:20</td>\n",
              "      <td>73.86</td>\n",
              "      <td>8b3f917f4307d3e5cf34c0b43d6e6f50</td>\n",
              "      <td>75800</td>\n",
              "      <td>Jatai</td>\n",
              "      <td>GO</td>\n",
              "    </tr>\n",
              "    <tr>\n",
              "      <th>2</th>\n",
              "      <td>532ed5e14e24ae1f0d735b91524b98b9</td>\n",
              "      <td>delivered</td>\n",
              "      <td>2018-05-18 10:25:53</td>\n",
              "      <td>83.23</td>\n",
              "      <td>69ba88e17ea574da9c9b8c8834a583d1</td>\n",
              "      <td>30720</td>\n",
              "      <td>Belo Horizonte</td>\n",
              "      <td>MG</td>\n",
              "    </tr>\n",
              "    <tr>\n",
              "      <th>3</th>\n",
              "      <td>6f8c31653edb8c83e1a739408b5ff750</td>\n",
              "      <td>delivered</td>\n",
              "      <td>2017-08-01 18:38:42</td>\n",
              "      <td>75.07</td>\n",
              "      <td>cbe063493a222cb17024ff0285b4ecb6</td>\n",
              "      <td>83070</td>\n",
              "      <td>Sao Jose Dos Pinhais</td>\n",
              "      <td>PR</td>\n",
              "    </tr>\n",
              "    <tr>\n",
              "      <th>4</th>\n",
              "      <td>7d19f4ef4d04461989632411b7e588b9</td>\n",
              "      <td>delivered</td>\n",
              "      <td>2017-08-10 21:48:40</td>\n",
              "      <td>72.19</td>\n",
              "      <td>ffab5330bd7b40979ab6726b2e02292e</td>\n",
              "      <td>36400</td>\n",
              "      <td>Conselheiro Lafaiete</td>\n",
              "      <td>MG</td>\n",
              "    </tr>\n",
              "    <tr>\n",
              "      <th>...</th>\n",
              "      <td>...</td>\n",
              "      <td>...</td>\n",
              "      <td>...</td>\n",
              "      <td>...</td>\n",
              "      <td>...</td>\n",
              "      <td>...</td>\n",
              "      <td>...</td>\n",
              "      <td>...</td>\n",
              "    </tr>\n",
              "    <tr>\n",
              "      <th>116576</th>\n",
              "      <td>fdaf98feac227eb978d8f33f36e0231d</td>\n",
              "      <td>delivered</td>\n",
              "      <td>2017-04-19 10:20:51</td>\n",
              "      <td>136.04</td>\n",
              "      <td>e060eb8f37de232154b24bbb2413b68e</td>\n",
              "      <td>22793</td>\n",
              "      <td>Rio De Janeiro</td>\n",
              "      <td>RJ</td>\n",
              "    </tr>\n",
              "    <tr>\n",
              "      <th>116577</th>\n",
              "      <td>fe68b52db13993f58175fa589125d345</td>\n",
              "      <td>delivered</td>\n",
              "      <td>2017-08-11 10:15:22</td>\n",
              "      <td>225.21</td>\n",
              "      <td>3041f5d65c4fa516eed1325d7a8657af</td>\n",
              "      <td>13485</td>\n",
              "      <td>Limeira</td>\n",
              "      <td>SP</td>\n",
              "    </tr>\n",
              "    <tr>\n",
              "      <th>116578</th>\n",
              "      <td>fefacc66af859508bf1a7934eab1e97f</td>\n",
              "      <td>delivered</td>\n",
              "      <td>2018-07-25 18:10:17</td>\n",
              "      <td>6922.21</td>\n",
              "      <td>57b628f46c00f9a7358e5e875d5b4dd0</td>\n",
              "      <td>29066</td>\n",
              "      <td>Vitoria</td>\n",
              "      <td>ES</td>\n",
              "    </tr>\n",
              "    <tr>\n",
              "      <th>116579</th>\n",
              "      <td>ff701a7c869ad21de22a6994237c8a00</td>\n",
              "      <td>delivered</td>\n",
              "      <td>2018-04-12 19:47:40</td>\n",
              "      <td>84.68</td>\n",
              "      <td>ea4d52b176423e61a84052b0f4717be9</td>\n",
              "      <td>12280</td>\n",
              "      <td>Cacapava</td>\n",
              "      <td>SP</td>\n",
              "    </tr>\n",
              "    <tr>\n",
              "      <th>116580</th>\n",
              "      <td>ff701a7c869ad21de22a6994237c8a00</td>\n",
              "      <td>delivered</td>\n",
              "      <td>2018-04-12 19:47:40</td>\n",
              "      <td>84.68</td>\n",
              "      <td>ea4d52b176423e61a84052b0f4717be9</td>\n",
              "      <td>12280</td>\n",
              "      <td>Cacapava</td>\n",
              "      <td>SP</td>\n",
              "    </tr>\n",
              "  </tbody>\n",
              "</table>\n",
              "<p>116581 rows × 8 columns</p>\n",
              "</div>\n",
              "      <button class=\"colab-df-convert\" onclick=\"convertToInteractive('df-f9ee8891-3622-4428-9dfe-1da1f6257265')\"\n",
              "              title=\"Convert this dataframe to an interactive table.\"\n",
              "              style=\"display:none;\">\n",
              "        \n",
              "  <svg xmlns=\"http://www.w3.org/2000/svg\" height=\"24px\"viewBox=\"0 0 24 24\"\n",
              "       width=\"24px\">\n",
              "    <path d=\"M0 0h24v24H0V0z\" fill=\"none\"/>\n",
              "    <path d=\"M18.56 5.44l.94 2.06.94-2.06 2.06-.94-2.06-.94-.94-2.06-.94 2.06-2.06.94zm-11 1L8.5 8.5l.94-2.06 2.06-.94-2.06-.94L8.5 2.5l-.94 2.06-2.06.94zm10 10l.94 2.06.94-2.06 2.06-.94-2.06-.94-.94-2.06-.94 2.06-2.06.94z\"/><path d=\"M17.41 7.96l-1.37-1.37c-.4-.4-.92-.59-1.43-.59-.52 0-1.04.2-1.43.59L10.3 9.45l-7.72 7.72c-.78.78-.78 2.05 0 2.83L4 21.41c.39.39.9.59 1.41.59.51 0 1.02-.2 1.41-.59l7.78-7.78 2.81-2.81c.8-.78.8-2.07 0-2.86zM5.41 20L4 18.59l7.72-7.72 1.47 1.35L5.41 20z\"/>\n",
              "  </svg>\n",
              "      </button>\n",
              "      \n",
              "  <style>\n",
              "    .colab-df-container {\n",
              "      display:flex;\n",
              "      flex-wrap:wrap;\n",
              "      gap: 12px;\n",
              "    }\n",
              "\n",
              "    .colab-df-convert {\n",
              "      background-color: #E8F0FE;\n",
              "      border: none;\n",
              "      border-radius: 50%;\n",
              "      cursor: pointer;\n",
              "      display: none;\n",
              "      fill: #1967D2;\n",
              "      height: 32px;\n",
              "      padding: 0 0 0 0;\n",
              "      width: 32px;\n",
              "    }\n",
              "\n",
              "    .colab-df-convert:hover {\n",
              "      background-color: #E2EBFA;\n",
              "      box-shadow: 0px 1px 2px rgba(60, 64, 67, 0.3), 0px 1px 3px 1px rgba(60, 64, 67, 0.15);\n",
              "      fill: #174EA6;\n",
              "    }\n",
              "\n",
              "    [theme=dark] .colab-df-convert {\n",
              "      background-color: #3B4455;\n",
              "      fill: #D2E3FC;\n",
              "    }\n",
              "\n",
              "    [theme=dark] .colab-df-convert:hover {\n",
              "      background-color: #434B5C;\n",
              "      box-shadow: 0px 1px 3px 1px rgba(0, 0, 0, 0.15);\n",
              "      filter: drop-shadow(0px 1px 2px rgba(0, 0, 0, 0.3));\n",
              "      fill: #FFFFFF;\n",
              "    }\n",
              "  </style>\n",
              "\n",
              "      <script>\n",
              "        const buttonEl =\n",
              "          document.querySelector('#df-f9ee8891-3622-4428-9dfe-1da1f6257265 button.colab-df-convert');\n",
              "        buttonEl.style.display =\n",
              "          google.colab.kernel.accessAllowed ? 'block' : 'none';\n",
              "\n",
              "        async function convertToInteractive(key) {\n",
              "          const element = document.querySelector('#df-f9ee8891-3622-4428-9dfe-1da1f6257265');\n",
              "          const dataTable =\n",
              "            await google.colab.kernel.invokeFunction('convertToInteractive',\n",
              "                                                     [key], {});\n",
              "          if (!dataTable) return;\n",
              "\n",
              "          const docLinkHtml = 'Like what you see? Visit the ' +\n",
              "            '<a target=\"_blank\" href=https://colab.research.google.com/notebooks/data_table.ipynb>data table notebook</a>'\n",
              "            + ' to learn more about interactive tables.';\n",
              "          element.innerHTML = '';\n",
              "          dataTable['output_type'] = 'display_data';\n",
              "          await google.colab.output.renderOutput(dataTable, element);\n",
              "          const docLink = document.createElement('div');\n",
              "          docLink.innerHTML = docLinkHtml;\n",
              "          element.appendChild(docLink);\n",
              "        }\n",
              "      </script>\n",
              "    </div>\n",
              "  </div>\n",
              "  "
            ]
          },
          "metadata": {},
          "execution_count": 9
        }
      ]
    },
    {
      "cell_type": "markdown",
      "source": [
        "## 2.2 Check missing data"
      ],
      "metadata": {
        "id": "sx20OOyOSy6G"
      }
    },
    {
      "cell_type": "code",
      "source": [
        "df_orders.apply(lambda x: sum(x.isnull()),axis=0)"
      ],
      "metadata": {
        "colab": {
          "base_uri": "https://localhost:8080/"
        },
        "id": "Se1kGx31NW5I",
        "outputId": "c903be35-1e73-4e3b-affe-65f62b37279c"
      },
      "execution_count": 10,
      "outputs": [
        {
          "output_type": "execute_result",
          "data": {
            "text/plain": [
              "order_id                    0\n",
              "order_status                0\n",
              "order_purchase_timestamp    0\n",
              "payment_value               0\n",
              "customer_unique_id          0\n",
              "customer_zip_code_prefix    0\n",
              "customer_city               0\n",
              "customer_state              0\n",
              "dtype: int64"
            ]
          },
          "metadata": {},
          "execution_count": 10
        }
      ]
    },
    {
      "cell_type": "markdown",
      "source": [
        "- There are not any missing values "
      ],
      "metadata": {
        "id": "piX3b-ddTQzx"
      }
    },
    {
      "cell_type": "markdown",
      "source": [
        "## 2.3 Check if there are multiple records"
      ],
      "metadata": {
        "id": "SHGYTZp6Yhf3"
      }
    },
    {
      "cell_type": "markdown",
      "source": [
        "Next, we will check if there are duplicated rows in this our dataset or not"
      ],
      "metadata": {
        "id": "HDWPXp5GZkkM"
      }
    },
    {
      "cell_type": "code",
      "source": [
        "df_orders[df_orders.duplicated()].count()"
      ],
      "metadata": {
        "colab": {
          "base_uri": "https://localhost:8080/"
        },
        "id": "OXX_RpdONW-G",
        "outputId": "17ce7409-9c2f-48b0-ca6d-b0d7e5c5282b"
      },
      "execution_count": 11,
      "outputs": [
        {
          "output_type": "execute_result",
          "data": {
            "text/plain": [
              "order_id                    15588\n",
              "order_status                15588\n",
              "order_purchase_timestamp    15588\n",
              "payment_value               15588\n",
              "customer_unique_id          15588\n",
              "customer_zip_code_prefix    15588\n",
              "customer_city               15588\n",
              "customer_state              15588\n",
              "dtype: int64"
            ]
          },
          "metadata": {},
          "execution_count": 11
        }
      ]
    },
    {
      "cell_type": "markdown",
      "source": [
        "- We have 15,588 duplicate records, so we will drop them"
      ],
      "metadata": {
        "id": "fzWYUsAKUl9L"
      }
    },
    {
      "cell_type": "code",
      "source": [
        "df_orders.drop_duplicates(inplace = True)"
      ],
      "metadata": {
        "id": "OF7oHrVKP4e7"
      },
      "execution_count": 12,
      "outputs": []
    },
    {
      "cell_type": "markdown",
      "source": [
        "## 2.4 Check data format"
      ],
      "metadata": {
        "id": "r05h8xLjabWf"
      }
    },
    {
      "cell_type": "code",
      "source": [
        "df_orders.info()"
      ],
      "metadata": {
        "colab": {
          "base_uri": "https://localhost:8080/"
        },
        "id": "qjq7f2Zaah2Y",
        "outputId": "0af8a0b8-e73d-4c4b-c191-3af79d2addf0"
      },
      "execution_count": 13,
      "outputs": [
        {
          "output_type": "stream",
          "name": "stdout",
          "text": [
            "<class 'pandas.core.frame.DataFrame'>\n",
            "Int64Index: 100993 entries, 0 to 116579\n",
            "Data columns (total 8 columns):\n",
            " #   Column                    Non-Null Count   Dtype  \n",
            "---  ------                    --------------   -----  \n",
            " 0   order_id                  100993 non-null  object \n",
            " 1   order_status              100993 non-null  object \n",
            " 2   order_purchase_timestamp  100993 non-null  object \n",
            " 3   payment_value             100993 non-null  float64\n",
            " 4   customer_unique_id        100993 non-null  object \n",
            " 5   customer_zip_code_prefix  100993 non-null  int64  \n",
            " 6   customer_city             100993 non-null  object \n",
            " 7   customer_state            100993 non-null  object \n",
            "dtypes: float64(1), int64(1), object(6)\n",
            "memory usage: 6.9+ MB\n"
          ]
        }
      ]
    },
    {
      "cell_type": "markdown",
      "source": [
        "We  need to format column `order_purchase_timestamp` into datetime format and rename this column to `order_purchase_date`\n",
        "\n"
      ],
      "metadata": {
        "id": "hcpARpBMbNEE"
      }
    },
    {
      "cell_type": "code",
      "source": [
        "df_orders['order_purchase_date'] = df_orders.order_purchase_timestamp.apply(lambda x: pd.to_datetime(x, format=\"%Y-%m-%d\"))"
      ],
      "metadata": {
        "id": "FE-_zN7fQpC0"
      },
      "execution_count": 14,
      "outputs": []
    },
    {
      "cell_type": "code",
      "source": [
        "#Check datatype again\n",
        "df_orders.info()"
      ],
      "metadata": {
        "colab": {
          "base_uri": "https://localhost:8080/"
        },
        "id": "Mb76vW6HbwBG",
        "outputId": "26e4d85f-0fbb-4851-a74e-d5323ecd2198"
      },
      "execution_count": 15,
      "outputs": [
        {
          "output_type": "stream",
          "name": "stdout",
          "text": [
            "<class 'pandas.core.frame.DataFrame'>\n",
            "Int64Index: 100993 entries, 0 to 116579\n",
            "Data columns (total 9 columns):\n",
            " #   Column                    Non-Null Count   Dtype         \n",
            "---  ------                    --------------   -----         \n",
            " 0   order_id                  100993 non-null  object        \n",
            " 1   order_status              100993 non-null  object        \n",
            " 2   order_purchase_timestamp  100993 non-null  object        \n",
            " 3   payment_value             100993 non-null  float64       \n",
            " 4   customer_unique_id        100993 non-null  object        \n",
            " 5   customer_zip_code_prefix  100993 non-null  int64         \n",
            " 6   customer_city             100993 non-null  object        \n",
            " 7   customer_state            100993 non-null  object        \n",
            " 8   order_purchase_date       100993 non-null  datetime64[ns]\n",
            "dtypes: datetime64[ns](1), float64(1), int64(1), object(6)\n",
            "memory usage: 7.7+ MB\n"
          ]
        }
      ]
    },
    {
      "cell_type": "markdown",
      "source": [
        "## 2.5 Filter orders by order_status "
      ],
      "metadata": {
        "id": "TWw87B4GguHR"
      }
    },
    {
      "cell_type": "markdown",
      "source": [
        "We are only interested in customers which completed the interaction (order_status = \"delivered\")"
      ],
      "metadata": {
        "id": "cjkB2ZHipsEJ"
      }
    },
    {
      "cell_type": "code",
      "source": [
        "df_orders = df_orders[df_orders['order_status']=='delivered']"
      ],
      "metadata": {
        "id": "lrV0QxubqDma"
      },
      "execution_count": 16,
      "outputs": []
    },
    {
      "cell_type": "code",
      "source": [
        "df_orders.info()"
      ],
      "metadata": {
        "colab": {
          "base_uri": "https://localhost:8080/"
        },
        "id": "jnm-tptQqJO1",
        "outputId": "b28b434c-19d8-41b0-835a-83c7b2fab558"
      },
      "execution_count": 17,
      "outputs": [
        {
          "output_type": "stream",
          "name": "stdout",
          "text": [
            "<class 'pandas.core.frame.DataFrame'>\n",
            "Int64Index: 98770 entries, 0 to 116579\n",
            "Data columns (total 9 columns):\n",
            " #   Column                    Non-Null Count  Dtype         \n",
            "---  ------                    --------------  -----         \n",
            " 0   order_id                  98770 non-null  object        \n",
            " 1   order_status              98770 non-null  object        \n",
            " 2   order_purchase_timestamp  98770 non-null  object        \n",
            " 3   payment_value             98770 non-null  float64       \n",
            " 4   customer_unique_id        98770 non-null  object        \n",
            " 5   customer_zip_code_prefix  98770 non-null  int64         \n",
            " 6   customer_city             98770 non-null  object        \n",
            " 7   customer_state            98770 non-null  object        \n",
            " 8   order_purchase_date       98770 non-null  datetime64[ns]\n",
            "dtypes: datetime64[ns](1), float64(1), int64(1), object(6)\n",
            "memory usage: 7.5+ MB\n"
          ]
        }
      ]
    },
    {
      "cell_type": "markdown",
      "source": [
        "# **3. RFM Model**"
      ],
      "metadata": {
        "id": "ITnRcKB_jmYN"
      }
    },
    {
      "cell_type": "markdown",
      "source": [
        "## 3.1 Calculate R,F,M"
      ],
      "metadata": {
        "id": "gwJ7-SHvmhe2"
      }
    },
    {
      "cell_type": "code",
      "source": [
        "df_orders['InvoiceDate'] = df_orders.order_purchase_date.apply(lambda x : datetime.strftime(x, '%Y-%m-%d'))"
      ],
      "metadata": {
        "colab": {
          "base_uri": "https://localhost:8080/"
        },
        "id": "fU9r6Sm9SS5j",
        "outputId": "ccf44c28-4491-4118-ab11-63028cac6275"
      },
      "execution_count": 18,
      "outputs": [
        {
          "output_type": "stream",
          "name": "stderr",
          "text": [
            "/usr/local/lib/python3.7/dist-packages/ipykernel_launcher.py:1: SettingWithCopyWarning: \n",
            "A value is trying to be set on a copy of a slice from a DataFrame.\n",
            "Try using .loc[row_indexer,col_indexer] = value instead\n",
            "\n",
            "See the caveats in the documentation: https://pandas.pydata.org/pandas-docs/stable/user_guide/indexing.html#returning-a-view-versus-a-copy\n",
            "  \"\"\"Entry point for launching an IPython kernel.\n"
          ]
        }
      ]
    },
    {
      "cell_type": "code",
      "source": [
        "df_orders['InvoiceDate'] = pd.to_datetime(df_orders['InvoiceDate'])"
      ],
      "metadata": {
        "colab": {
          "base_uri": "https://localhost:8080/"
        },
        "id": "YsSaXsLjTXhd",
        "outputId": "bd2791a8-8954-4716-fb9b-f53fa94940db"
      },
      "execution_count": 19,
      "outputs": [
        {
          "output_type": "stream",
          "name": "stderr",
          "text": [
            "/usr/local/lib/python3.7/dist-packages/ipykernel_launcher.py:1: SettingWithCopyWarning: \n",
            "A value is trying to be set on a copy of a slice from a DataFrame.\n",
            "Try using .loc[row_indexer,col_indexer] = value instead\n",
            "\n",
            "See the caveats in the documentation: https://pandas.pydata.org/pandas-docs/stable/user_guide/indexing.html#returning-a-view-versus-a-copy\n",
            "  \"\"\"Entry point for launching an IPython kernel.\n"
          ]
        }
      ]
    },
    {
      "cell_type": "code",
      "source": [
        "df_orders.info()"
      ],
      "metadata": {
        "colab": {
          "base_uri": "https://localhost:8080/"
        },
        "id": "WzHsvIG-SYCB",
        "outputId": "aa6091ed-58f9-42b0-9d72-5cf01d925cad"
      },
      "execution_count": 20,
      "outputs": [
        {
          "output_type": "stream",
          "name": "stdout",
          "text": [
            "<class 'pandas.core.frame.DataFrame'>\n",
            "Int64Index: 98770 entries, 0 to 116579\n",
            "Data columns (total 10 columns):\n",
            " #   Column                    Non-Null Count  Dtype         \n",
            "---  ------                    --------------  -----         \n",
            " 0   order_id                  98770 non-null  object        \n",
            " 1   order_status              98770 non-null  object        \n",
            " 2   order_purchase_timestamp  98770 non-null  object        \n",
            " 3   payment_value             98770 non-null  float64       \n",
            " 4   customer_unique_id        98770 non-null  object        \n",
            " 5   customer_zip_code_prefix  98770 non-null  int64         \n",
            " 6   customer_city             98770 non-null  object        \n",
            " 7   customer_state            98770 non-null  object        \n",
            " 8   order_purchase_date       98770 non-null  datetime64[ns]\n",
            " 9   InvoiceDate               98770 non-null  datetime64[ns]\n",
            "dtypes: datetime64[ns](2), float64(1), int64(1), object(6)\n",
            "memory usage: 8.3+ MB\n"
          ]
        }
      ]
    },
    {
      "cell_type": "code",
      "source": [
        "snapshot_date = df_orders['InvoiceDate'].max() + timedelta(days=1)\n",
        "\n",
        "data_process = df_orders.groupby(['customer_unique_id']).agg({\n",
        "        'InvoiceDate': lambda x: (snapshot_date - x.max()).days,\n",
        "        'order_id': 'count',\n",
        "        'payment_value': 'sum'})\n"
      ],
      "metadata": {
        "id": "MGK_JZWjmgyD"
      },
      "execution_count": 21,
      "outputs": []
    },
    {
      "cell_type": "code",
      "source": [
        "data_process.rename(columns={'InvoiceDate': 'Recency',\n",
        "                         'order_id': 'Frequency',\n",
        "                         'payment_value': 'Monetary'}, inplace=True)\n",
        "data_process\n"
      ],
      "metadata": {
        "colab": {
          "base_uri": "https://localhost:8080/",
          "height": 455
        },
        "id": "MaXk27OgVA9V",
        "outputId": "2701bed4-3e44-48a3-a2e5-6028d1b8e099"
      },
      "execution_count": 22,
      "outputs": [
        {
          "output_type": "execute_result",
          "data": {
            "text/plain": [
              "                                  Recency  Frequency  Monetary\n",
              "customer_unique_id                                            \n",
              "0000b849f77a49e4a4ce2b2a4ca5be3f      170          2    136.26\n",
              "0000f46a3911fa3c0805444483337064      126          3    583.87\n",
              "0004bd2a26a76fe21f786e4fbd80607f        8          3    336.11\n",
              "00050ab1314c0e55a6ca13cf7181fecf      220          1     80.18\n",
              "0005ef4cd20d2893f0d9fbd94d3c0d97      482          1    187.91\n",
              "...                                   ...        ...       ...\n",
              "fffa431dd3fcdefea4b1777d114144f2      163          3   1643.43\n",
              "fffb09418989a0dbff854a28163e47c6      294          1    329.38\n",
              "fffbf87b7a1a6fa8b03f081c5f51a201       52          2    199.50\n",
              "fffcc512b7dfecaffd80f13614af1d16      356          1     45.10\n",
              "fffea47cd6d3cc0a88bd621562a9d061      407          2    366.08\n",
              "\n",
              "[41431 rows x 3 columns]"
            ],
            "text/html": [
              "\n",
              "  <div id=\"df-48cf923b-48a0-4f06-86f4-18745bcf288e\">\n",
              "    <div class=\"colab-df-container\">\n",
              "      <div>\n",
              "<style scoped>\n",
              "    .dataframe tbody tr th:only-of-type {\n",
              "        vertical-align: middle;\n",
              "    }\n",
              "\n",
              "    .dataframe tbody tr th {\n",
              "        vertical-align: top;\n",
              "    }\n",
              "\n",
              "    .dataframe thead th {\n",
              "        text-align: right;\n",
              "    }\n",
              "</style>\n",
              "<table border=\"1\" class=\"dataframe\">\n",
              "  <thead>\n",
              "    <tr style=\"text-align: right;\">\n",
              "      <th></th>\n",
              "      <th>Recency</th>\n",
              "      <th>Frequency</th>\n",
              "      <th>Monetary</th>\n",
              "    </tr>\n",
              "    <tr>\n",
              "      <th>customer_unique_id</th>\n",
              "      <th></th>\n",
              "      <th></th>\n",
              "      <th></th>\n",
              "    </tr>\n",
              "  </thead>\n",
              "  <tbody>\n",
              "    <tr>\n",
              "      <th>0000b849f77a49e4a4ce2b2a4ca5be3f</th>\n",
              "      <td>170</td>\n",
              "      <td>2</td>\n",
              "      <td>136.26</td>\n",
              "    </tr>\n",
              "    <tr>\n",
              "      <th>0000f46a3911fa3c0805444483337064</th>\n",
              "      <td>126</td>\n",
              "      <td>3</td>\n",
              "      <td>583.87</td>\n",
              "    </tr>\n",
              "    <tr>\n",
              "      <th>0004bd2a26a76fe21f786e4fbd80607f</th>\n",
              "      <td>8</td>\n",
              "      <td>3</td>\n",
              "      <td>336.11</td>\n",
              "    </tr>\n",
              "    <tr>\n",
              "      <th>00050ab1314c0e55a6ca13cf7181fecf</th>\n",
              "      <td>220</td>\n",
              "      <td>1</td>\n",
              "      <td>80.18</td>\n",
              "    </tr>\n",
              "    <tr>\n",
              "      <th>0005ef4cd20d2893f0d9fbd94d3c0d97</th>\n",
              "      <td>482</td>\n",
              "      <td>1</td>\n",
              "      <td>187.91</td>\n",
              "    </tr>\n",
              "    <tr>\n",
              "      <th>...</th>\n",
              "      <td>...</td>\n",
              "      <td>...</td>\n",
              "      <td>...</td>\n",
              "    </tr>\n",
              "    <tr>\n",
              "      <th>fffa431dd3fcdefea4b1777d114144f2</th>\n",
              "      <td>163</td>\n",
              "      <td>3</td>\n",
              "      <td>1643.43</td>\n",
              "    </tr>\n",
              "    <tr>\n",
              "      <th>fffb09418989a0dbff854a28163e47c6</th>\n",
              "      <td>294</td>\n",
              "      <td>1</td>\n",
              "      <td>329.38</td>\n",
              "    </tr>\n",
              "    <tr>\n",
              "      <th>fffbf87b7a1a6fa8b03f081c5f51a201</th>\n",
              "      <td>52</td>\n",
              "      <td>2</td>\n",
              "      <td>199.50</td>\n",
              "    </tr>\n",
              "    <tr>\n",
              "      <th>fffcc512b7dfecaffd80f13614af1d16</th>\n",
              "      <td>356</td>\n",
              "      <td>1</td>\n",
              "      <td>45.10</td>\n",
              "    </tr>\n",
              "    <tr>\n",
              "      <th>fffea47cd6d3cc0a88bd621562a9d061</th>\n",
              "      <td>407</td>\n",
              "      <td>2</td>\n",
              "      <td>366.08</td>\n",
              "    </tr>\n",
              "  </tbody>\n",
              "</table>\n",
              "<p>41431 rows × 3 columns</p>\n",
              "</div>\n",
              "      <button class=\"colab-df-convert\" onclick=\"convertToInteractive('df-48cf923b-48a0-4f06-86f4-18745bcf288e')\"\n",
              "              title=\"Convert this dataframe to an interactive table.\"\n",
              "              style=\"display:none;\">\n",
              "        \n",
              "  <svg xmlns=\"http://www.w3.org/2000/svg\" height=\"24px\"viewBox=\"0 0 24 24\"\n",
              "       width=\"24px\">\n",
              "    <path d=\"M0 0h24v24H0V0z\" fill=\"none\"/>\n",
              "    <path d=\"M18.56 5.44l.94 2.06.94-2.06 2.06-.94-2.06-.94-.94-2.06-.94 2.06-2.06.94zm-11 1L8.5 8.5l.94-2.06 2.06-.94-2.06-.94L8.5 2.5l-.94 2.06-2.06.94zm10 10l.94 2.06.94-2.06 2.06-.94-2.06-.94-.94-2.06-.94 2.06-2.06.94z\"/><path d=\"M17.41 7.96l-1.37-1.37c-.4-.4-.92-.59-1.43-.59-.52 0-1.04.2-1.43.59L10.3 9.45l-7.72 7.72c-.78.78-.78 2.05 0 2.83L4 21.41c.39.39.9.59 1.41.59.51 0 1.02-.2 1.41-.59l7.78-7.78 2.81-2.81c.8-.78.8-2.07 0-2.86zM5.41 20L4 18.59l7.72-7.72 1.47 1.35L5.41 20z\"/>\n",
              "  </svg>\n",
              "      </button>\n",
              "      \n",
              "  <style>\n",
              "    .colab-df-container {\n",
              "      display:flex;\n",
              "      flex-wrap:wrap;\n",
              "      gap: 12px;\n",
              "    }\n",
              "\n",
              "    .colab-df-convert {\n",
              "      background-color: #E8F0FE;\n",
              "      border: none;\n",
              "      border-radius: 50%;\n",
              "      cursor: pointer;\n",
              "      display: none;\n",
              "      fill: #1967D2;\n",
              "      height: 32px;\n",
              "      padding: 0 0 0 0;\n",
              "      width: 32px;\n",
              "    }\n",
              "\n",
              "    .colab-df-convert:hover {\n",
              "      background-color: #E2EBFA;\n",
              "      box-shadow: 0px 1px 2px rgba(60, 64, 67, 0.3), 0px 1px 3px 1px rgba(60, 64, 67, 0.15);\n",
              "      fill: #174EA6;\n",
              "    }\n",
              "\n",
              "    [theme=dark] .colab-df-convert {\n",
              "      background-color: #3B4455;\n",
              "      fill: #D2E3FC;\n",
              "    }\n",
              "\n",
              "    [theme=dark] .colab-df-convert:hover {\n",
              "      background-color: #434B5C;\n",
              "      box-shadow: 0px 1px 3px 1px rgba(0, 0, 0, 0.15);\n",
              "      filter: drop-shadow(0px 1px 2px rgba(0, 0, 0, 0.3));\n",
              "      fill: #FFFFFF;\n",
              "    }\n",
              "  </style>\n",
              "\n",
              "      <script>\n",
              "        const buttonEl =\n",
              "          document.querySelector('#df-48cf923b-48a0-4f06-86f4-18745bcf288e button.colab-df-convert');\n",
              "        buttonEl.style.display =\n",
              "          google.colab.kernel.accessAllowed ? 'block' : 'none';\n",
              "\n",
              "        async function convertToInteractive(key) {\n",
              "          const element = document.querySelector('#df-48cf923b-48a0-4f06-86f4-18745bcf288e');\n",
              "          const dataTable =\n",
              "            await google.colab.kernel.invokeFunction('convertToInteractive',\n",
              "                                                     [key], {});\n",
              "          if (!dataTable) return;\n",
              "\n",
              "          const docLinkHtml = 'Like what you see? Visit the ' +\n",
              "            '<a target=\"_blank\" href=https://colab.research.google.com/notebooks/data_table.ipynb>data table notebook</a>'\n",
              "            + ' to learn more about interactive tables.';\n",
              "          element.innerHTML = '';\n",
              "          dataTable['output_type'] = 'display_data';\n",
              "          await google.colab.output.renderOutput(dataTable, element);\n",
              "          const docLink = document.createElement('div');\n",
              "          docLink.innerHTML = docLinkHtml;\n",
              "          element.appendChild(docLink);\n",
              "        }\n",
              "      </script>\n",
              "    </div>\n",
              "  </div>\n",
              "  "
            ]
          },
          "metadata": {},
          "execution_count": 22
        }
      ]
    },
    {
      "cell_type": "code",
      "source": [
        "plt.figure(figsize=(12,10))\n",
        "# Plot distribution of Recency\n",
        "plt.subplot(3, 1, 1)\n",
        "sns.distplot(data_process['Recency'])\n",
        "# Plot distribution of Frequency\n",
        "plt.subplot(3, 1, 2)\n",
        "sns.distplot(data_process['Frequency'])\n",
        "# Plot distribution of Monetary\n",
        "plt.subplot(3, 1, 3)\n",
        "sns.distplot(data_process['Monetary'])\n",
        "# Show the plot\n",
        "plt.show()"
      ],
      "metadata": {
        "id": "mDVaQHkVVI7v",
        "outputId": "381a7348-afb9-4ed8-88d0-38e67ab0e19d",
        "colab": {
          "base_uri": "https://localhost:8080/",
          "height": 730
        }
      },
      "execution_count": 23,
      "outputs": [
        {
          "output_type": "stream",
          "name": "stderr",
          "text": [
            "/usr/local/lib/python3.7/dist-packages/seaborn/distributions.py:2619: FutureWarning: `distplot` is a deprecated function and will be removed in a future version. Please adapt your code to use either `displot` (a figure-level function with similar flexibility) or `histplot` (an axes-level function for histograms).\n",
            "  warnings.warn(msg, FutureWarning)\n",
            "/usr/local/lib/python3.7/dist-packages/seaborn/distributions.py:2619: FutureWarning: `distplot` is a deprecated function and will be removed in a future version. Please adapt your code to use either `displot` (a figure-level function with similar flexibility) or `histplot` (an axes-level function for histograms).\n",
            "  warnings.warn(msg, FutureWarning)\n",
            "/usr/local/lib/python3.7/dist-packages/seaborn/distributions.py:2619: FutureWarning: `distplot` is a deprecated function and will be removed in a future version. Please adapt your code to use either `displot` (a figure-level function with similar flexibility) or `histplot` (an axes-level function for histograms).\n",
            "  warnings.warn(msg, FutureWarning)\n"
          ]
        },
        {
          "output_type": "display_data",
          "data": {
            "text/plain": [
              "<Figure size 864x720 with 3 Axes>"
            ],
            "image/png": "[encoded data removed]"
          },
          "metadata": {
            "needs_background": "light"
          }
        }
      ]
    },
    {
      "cell_type": "code",
      "source": [
        "# Create labels for Recency and Frequency\n",
        "r_labels = range(4, 0, -1); f_labels = range(1, 4)\n",
        "# Assign these labels to 4 equal percentile groups \n",
        "r_groups = pd.qcut(data_process['Recency'], q=4, labels=r_labels)\n",
        "# Assign these labels to 4 equal percentile groups \n",
        "f_groups = pd.qcut(data_process['Frequency'], q=4, labels=f_labels, duplicates='drop')\n",
        "# Create new columns R and F \n",
        "data_process = data_process.assign(R = r_groups.values, F = f_groups.values)\n",
        "data_process.head()"
      ],
      "metadata": {
        "colab": {
          "base_uri": "https://localhost:8080/",
          "height": 237
        },
        "id": "ueQ5GaeaP4SY",
        "outputId": "55dc4e8d-59bd-4893-a9a1-58bd07496b96"
      },
      "execution_count": 24,
      "outputs": [
        {
          "output_type": "execute_result",
          "data": {
            "text/plain": [
              "                                  Recency  Frequency  Monetary  R  F\n",
              "customer_unique_id                                                  \n",
              "0000b849f77a49e4a4ce2b2a4ca5be3f      170          2    136.26  2  1\n",
              "0000f46a3911fa3c0805444483337064      126          3    583.87  3  2\n",
              "0004bd2a26a76fe21f786e4fbd80607f        8          3    336.11  4  2\n",
              "00050ab1314c0e55a6ca13cf7181fecf      220          1     80.18  2  1\n",
              "0005ef4cd20d2893f0d9fbd94d3c0d97      482          1    187.91  1  1"
            ],
            "text/html": [
              "\n",
              "  <div id=\"df-4bf547cc-1099-4efa-9543-6403b565772d\">\n",
              "    <div class=\"colab-df-container\">\n",
              "      <div>\n",
              "<style scoped>\n",
              "    .dataframe tbody tr th:only-of-type {\n",
              "        vertical-align: middle;\n",
              "    }\n",
              "\n",
              "    .dataframe tbody tr th {\n",
              "        vertical-align: top;\n",
              "    }\n",
              "\n",
              "    .dataframe thead th {\n",
              "        text-align: right;\n",
              "    }\n",
              "</style>\n",
              "<table border=\"1\" class=\"dataframe\">\n",
              "  <thead>\n",
              "    <tr style=\"text-align: right;\">\n",
              "      <th></th>\n",
              "      <th>Recency</th>\n",
              "      <th>Frequency</th>\n",
              "      <th>Monetary</th>\n",
              "      <th>R</th>\n",
              "      <th>F</th>\n",
              "    </tr>\n",
              "    <tr>\n",
              "      <th>customer_unique_id</th>\n",
              "      <th></th>\n",
              "      <th></th>\n",
              "      <th></th>\n",
              "      <th></th>\n",
              "      <th></th>\n",
              "    </tr>\n",
              "  </thead>\n",
              "  <tbody>\n",
              "    <tr>\n",
              "      <th>0000b849f77a49e4a4ce2b2a4ca5be3f</th>\n",
              "      <td>170</td>\n",
              "      <td>2</td>\n",
              "      <td>136.26</td>\n",
              "      <td>2</td>\n",
              "      <td>1</td>\n",
              "    </tr>\n",
              "    <tr>\n",
              "      <th>0000f46a3911fa3c0805444483337064</th>\n",
              "      <td>126</td>\n",
              "      <td>3</td>\n",
              "      <td>583.87</td>\n",
              "      <td>3</td>\n",
              "      <td>2</td>\n",
              "    </tr>\n",
              "    <tr>\n",
              "      <th>0004bd2a26a76fe21f786e4fbd80607f</th>\n",
              "      <td>8</td>\n",
              "      <td>3</td>\n",
              "      <td>336.11</td>\n",
              "      <td>4</td>\n",
              "      <td>2</td>\n",
              "    </tr>\n",
              "    <tr>\n",
              "      <th>00050ab1314c0e55a6ca13cf7181fecf</th>\n",
              "      <td>220</td>\n",
              "      <td>1</td>\n",
              "      <td>80.18</td>\n",
              "      <td>2</td>\n",
              "      <td>1</td>\n",
              "    </tr>\n",
              "    <tr>\n",
              "      <th>0005ef4cd20d2893f0d9fbd94d3c0d97</th>\n",
              "      <td>482</td>\n",
              "      <td>1</td>\n",
              "      <td>187.91</td>\n",
              "      <td>1</td>\n",
              "      <td>1</td>\n",
              "    </tr>\n",
              "  </tbody>\n",
              "</table>\n",
              "</div>\n",
              "      <button class=\"colab-df-convert\" onclick=\"convertToInteractive('df-4bf547cc-1099-4efa-9543-6403b565772d')\"\n",
              "              title=\"Convert this dataframe to an interactive table.\"\n",
              "              style=\"display:none;\">\n",
              "        \n",
              "  <svg xmlns=\"http://www.w3.org/2000/svg\" height=\"24px\"viewBox=\"0 0 24 24\"\n",
              "       width=\"24px\">\n",
              "    <path d=\"M0 0h24v24H0V0z\" fill=\"none\"/>\n",
              "    <path d=\"M18.56 5.44l.94 2.06.94-2.06 2.06-.94-2.06-.94-.94-2.06-.94 2.06-2.06.94zm-11 1L8.5 8.5l.94-2.06 2.06-.94-2.06-.94L8.5 2.5l-.94 2.06-2.06.94zm10 10l.94 2.06.94-2.06 2.06-.94-2.06-.94-.94-2.06-.94 2.06-2.06.94z\"/><path d=\"M17.41 7.96l-1.37-1.37c-.4-.4-.92-.59-1.43-.59-.52 0-1.04.2-1.43.59L10.3 9.45l-7.72 7.72c-.78.78-.78 2.05 0 2.83L4 21.41c.39.39.9.59 1.41.59.51 0 1.02-.2 1.41-.59l7.78-7.78 2.81-2.81c.8-.78.8-2.07 0-2.86zM5.41 20L4 18.59l7.72-7.72 1.47 1.35L5.41 20z\"/>\n",
              "  </svg>\n",
              "      </button>\n",
              "      \n",
              "  <style>\n",
              "    .colab-df-container {\n",
              "      display:flex;\n",
              "      flex-wrap:wrap;\n",
              "      gap: 12px;\n",
              "    }\n",
              "\n",
              "    .colab-df-convert {\n",
              "      background-color: #E8F0FE;\n",
              "      border: none;\n",
              "      border-radius: 50%;\n",
              "      cursor: pointer;\n",
              "      display: none;\n",
              "      fill: #1967D2;\n",
              "      height: 32px;\n",
              "      padding: 0 0 0 0;\n",
              "      width: 32px;\n",
              "    }\n",
              "\n",
              "    .colab-df-convert:hover {\n",
              "      background-color: #E2EBFA;\n",
              "      box-shadow: 0px 1px 2px rgba(60, 64, 67, 0.3), 0px 1px 3px 1px rgba(60, 64, 67, 0.15);\n",
              "      fill: #174EA6;\n",
              "    }\n",
              "\n",
              "    [theme=dark] .colab-df-convert {\n",
              "      background-color: #3B4455;\n",
              "      fill: #D2E3FC;\n",
              "    }\n",
              "\n",
              "    [theme=dark] .colab-df-convert:hover {\n",
              "      background-color: #434B5C;\n",
              "      box-shadow: 0px 1px 3px 1px rgba(0, 0, 0, 0.15);\n",
              "      filter: drop-shadow(0px 1px 2px rgba(0, 0, 0, 0.3));\n",
              "      fill: #FFFFFF;\n",
              "    }\n",
              "  </style>\n",
              "\n",
              "      <script>\n",
              "        const buttonEl =\n",
              "          document.querySelector('#df-4bf547cc-1099-4efa-9543-6403b565772d button.colab-df-convert');\n",
              "        buttonEl.style.display =\n",
              "          google.colab.kernel.accessAllowed ? 'block' : 'none';\n",
              "\n",
              "        async function convertToInteractive(key) {\n",
              "          const element = document.querySelector('#df-4bf547cc-1099-4efa-9543-6403b565772d');\n",
              "          const dataTable =\n",
              "            await google.colab.kernel.invokeFunction('convertToInteractive',\n",
              "                                                     [key], {});\n",
              "          if (!dataTable) return;\n",
              "\n",
              "          const docLinkHtml = 'Like what you see? Visit the ' +\n",
              "            '<a target=\"_blank\" href=https://colab.research.google.com/notebooks/data_table.ipynb>data table notebook</a>'\n",
              "            + ' to learn more about interactive tables.';\n",
              "          element.innerHTML = '';\n",
              "          dataTable['output_type'] = 'display_data';\n",
              "          await google.colab.output.renderOutput(dataTable, element);\n",
              "          const docLink = document.createElement('div');\n",
              "          docLink.innerHTML = docLinkHtml;\n",
              "          element.appendChild(docLink);\n",
              "        }\n",
              "      </script>\n",
              "    </div>\n",
              "  </div>\n",
              "  "
            ]
          },
          "metadata": {},
          "execution_count": 24
        }
      ]
    },
    {
      "cell_type": "code",
      "source": [
        "# Create labels for Monetary Value\n",
        "m_labels = range(1, 5)\n",
        "# Assign these labels to three equal percentile groups \n",
        "m_groups = pd.qcut(data_process['Monetary'], q=4, labels=m_labels)\n",
        "# Create new column M\n",
        "data_process = data_process.assign(M = m_groups.values)"
      ],
      "metadata": {
        "id": "bsb6KDhaP8oi"
      },
      "execution_count": 25,
      "outputs": []
    },
    {
      "cell_type": "code",
      "source": [
        "data_process"
      ],
      "metadata": {
        "colab": {
          "base_uri": "https://localhost:8080/",
          "height": 455
        },
        "id": "mdbztz26P-b1",
        "outputId": "9e554a67-4bf6-4de7-c611-15132ae3cfdc"
      },
      "execution_count": 26,
      "outputs": [
        {
          "output_type": "execute_result",
          "data": {
            "text/plain": [
              "                                  Recency  Frequency  Monetary  R  F  M\n",
              "customer_unique_id                                                     \n",
              "0000b849f77a49e4a4ce2b2a4ca5be3f      170          2    136.26  2  1  2\n",
              "0000f46a3911fa3c0805444483337064      126          3    583.87  3  2  4\n",
              "0004bd2a26a76fe21f786e4fbd80607f        8          3    336.11  4  2  3\n",
              "00050ab1314c0e55a6ca13cf7181fecf      220          1     80.18  2  1  1\n",
              "0005ef4cd20d2893f0d9fbd94d3c0d97      482          1    187.91  1  1  2\n",
              "...                                   ...        ...       ... .. .. ..\n",
              "fffa431dd3fcdefea4b1777d114144f2      163          3   1643.43  2  2  4\n",
              "fffb09418989a0dbff854a28163e47c6      294          1    329.38  1  1  3\n",
              "fffbf87b7a1a6fa8b03f081c5f51a201       52          2    199.50  4  1  2\n",
              "fffcc512b7dfecaffd80f13614af1d16      356          1     45.10  1  1  1\n",
              "fffea47cd6d3cc0a88bd621562a9d061      407          2    366.08  1  1  3\n",
              "\n",
              "[41431 rows x 6 columns]"
            ],
            "text/html": [
              "\n",
              "  <div id=\"df-5a180efd-e84c-44f0-95cc-2a0230961562\">\n",
              "    <div class=\"colab-df-container\">\n",
              "      <div>\n",
              "<style scoped>\n",
              "    .dataframe tbody tr th:only-of-type {\n",
              "        vertical-align: middle;\n",
              "    }\n",
              "\n",
              "    .dataframe tbody tr th {\n",
              "        vertical-align: top;\n",
              "    }\n",
              "\n",
              "    .dataframe thead th {\n",
              "        text-align: right;\n",
              "    }\n",
              "</style>\n",
              "<table border=\"1\" class=\"dataframe\">\n",
              "  <thead>\n",
              "    <tr style=\"text-align: right;\">\n",
              "      <th></th>\n",
              "      <th>Recency</th>\n",
              "      <th>Frequency</th>\n",
              "      <th>Monetary</th>\n",
              "      <th>R</th>\n",
              "      <th>F</th>\n",
              "      <th>M</th>\n",
              "    </tr>\n",
              "    <tr>\n",
              "      <th>customer_unique_id</th>\n",
              "      <th></th>\n",
              "      <th></th>\n",
              "      <th></th>\n",
              "      <th></th>\n",
              "      <th></th>\n",
              "      <th></th>\n",
              "    </tr>\n",
              "  </thead>\n",
              "  <tbody>\n",
              "    <tr>\n",
              "      <th>0000b849f77a49e4a4ce2b2a4ca5be3f</th>\n",
              "      <td>170</td>\n",
              "      <td>2</td>\n",
              "      <td>136.26</td>\n",
              "      <td>2</td>\n",
              "      <td>1</td>\n",
              "      <td>2</td>\n",
              "    </tr>\n",
              "    <tr>\n",
              "      <th>0000f46a3911fa3c0805444483337064</th>\n",
              "      <td>126</td>\n",
              "      <td>3</td>\n",
              "      <td>583.87</td>\n",
              "      <td>3</td>\n",
              "      <td>2</td>\n",
              "      <td>4</td>\n",
              "    </tr>\n",
              "    <tr>\n",
              "      <th>0004bd2a26a76fe21f786e4fbd80607f</th>\n",
              "      <td>8</td>\n",
              "      <td>3</td>\n",
              "      <td>336.11</td>\n",
              "      <td>4</td>\n",
              "      <td>2</td>\n",
              "      <td>3</td>\n",
              "    </tr>\n",
              "    <tr>\n",
              "      <th>00050ab1314c0e55a6ca13cf7181fecf</th>\n",
              "      <td>220</td>\n",
              "      <td>1</td>\n",
              "      <td>80.18</td>\n",
              "      <td>2</td>\n",
              "      <td>1</td>\n",
              "      <td>1</td>\n",
              "    </tr>\n",
              "    <tr>\n",
              "      <th>0005ef4cd20d2893f0d9fbd94d3c0d97</th>\n",
              "      <td>482</td>\n",
              "      <td>1</td>\n",
              "      <td>187.91</td>\n",
              "      <td>1</td>\n",
              "      <td>1</td>\n",
              "      <td>2</td>\n",
              "    </tr>\n",
              "    <tr>\n",
              "      <th>...</th>\n",
              "      <td>...</td>\n",
              "      <td>...</td>\n",
              "      <td>...</td>\n",
              "      <td>...</td>\n",
              "      <td>...</td>\n",
              "      <td>...</td>\n",
              "    </tr>\n",
              "    <tr>\n",
              "      <th>fffa431dd3fcdefea4b1777d114144f2</th>\n",
              "      <td>163</td>\n",
              "      <td>3</td>\n",
              "      <td>1643.43</td>\n",
              "      <td>2</td>\n",
              "      <td>2</td>\n",
              "      <td>4</td>\n",
              "    </tr>\n",
              "    <tr>\n",
              "      <th>fffb09418989a0dbff854a28163e47c6</th>\n",
              "      <td>294</td>\n",
              "      <td>1</td>\n",
              "      <td>329.38</td>\n",
              "      <td>1</td>\n",
              "      <td>1</td>\n",
              "      <td>3</td>\n",
              "    </tr>\n",
              "    <tr>\n",
              "      <th>fffbf87b7a1a6fa8b03f081c5f51a201</th>\n",
              "      <td>52</td>\n",
              "      <td>2</td>\n",
              "      <td>199.50</td>\n",
              "      <td>4</td>\n",
              "      <td>1</td>\n",
              "      <td>2</td>\n",
              "    </tr>\n",
              "    <tr>\n",
              "      <th>fffcc512b7dfecaffd80f13614af1d16</th>\n",
              "      <td>356</td>\n",
              "      <td>1</td>\n",
              "      <td>45.10</td>\n",
              "      <td>1</td>\n",
              "      <td>1</td>\n",
              "      <td>1</td>\n",
              "    </tr>\n",
              "    <tr>\n",
              "      <th>fffea47cd6d3cc0a88bd621562a9d061</th>\n",
              "      <td>407</td>\n",
              "      <td>2</td>\n",
              "      <td>366.08</td>\n",
              "      <td>1</td>\n",
              "      <td>1</td>\n",
              "      <td>3</td>\n",
              "    </tr>\n",
              "  </tbody>\n",
              "</table>\n",
              "<p>41431 rows × 6 columns</p>\n",
              "</div>\n",
              "      <button class=\"colab-df-convert\" onclick=\"convertToInteractive('df-5a180efd-e84c-44f0-95cc-2a0230961562')\"\n",
              "              title=\"Convert this dataframe to an interactive table.\"\n",
              "              style=\"display:none;\">\n",
              "        \n",
              "  <svg xmlns=\"http://www.w3.org/2000/svg\" height=\"24px\"viewBox=\"0 0 24 24\"\n",
              "       width=\"24px\">\n",
              "    <path d=\"M0 0h24v24H0V0z\" fill=\"none\"/>\n",
              "    <path d=\"M18.56 5.44l.94 2.06.94-2.06 2.06-.94-2.06-.94-.94-2.06-.94 2.06-2.06.94zm-11 1L8.5 8.5l.94-2.06 2.06-.94-2.06-.94L8.5 2.5l-.94 2.06-2.06.94zm10 10l.94 2.06.94-2.06 2.06-.94-2.06-.94-.94-2.06-.94 2.06-2.06.94z\"/><path d=\"M17.41 7.96l-1.37-1.37c-.4-.4-.92-.59-1.43-.59-.52 0-1.04.2-1.43.59L10.3 9.45l-7.72 7.72c-.78.78-.78 2.05 0 2.83L4 21.41c.39.39.9.59 1.41.59.51 0 1.02-.2 1.41-.59l7.78-7.78 2.81-2.81c.8-.78.8-2.07 0-2.86zM5.41 20L4 18.59l7.72-7.72 1.47 1.35L5.41 20z\"/>\n",
              "  </svg>\n",
              "      </button>\n",
              "      \n",
              "  <style>\n",
              "    .colab-df-container {\n",
              "      display:flex;\n",
              "      flex-wrap:wrap;\n",
              "      gap: 12px;\n",
              "    }\n",
              "\n",
              "    .colab-df-convert {\n",
              "      background-color: #E8F0FE;\n",
              "      border: none;\n",
              "      border-radius: 50%;\n",
              "      cursor: pointer;\n",
              "      display: none;\n",
              "      fill: #1967D2;\n",
              "      height: 32px;\n",
              "      padding: 0 0 0 0;\n",
              "      width: 32px;\n",
              "    }\n",
              "\n",
              "    .colab-df-convert:hover {\n",
              "      background-color: #E2EBFA;\n",
              "      box-shadow: 0px 1px 2px rgba(60, 64, 67, 0.3), 0px 1px 3px 1px rgba(60, 64, 67, 0.15);\n",
              "      fill: #174EA6;\n",
              "    }\n",
              "\n",
              "    [theme=dark] .colab-df-convert {\n",
              "      background-color: #3B4455;\n",
              "      fill: #D2E3FC;\n",
              "    }\n",
              "\n",
              "    [theme=dark] .colab-df-convert:hover {\n",
              "      background-color: #434B5C;\n",
              "      box-shadow: 0px 1px 3px 1px rgba(0, 0, 0, 0.15);\n",
              "      filter: drop-shadow(0px 1px 2px rgba(0, 0, 0, 0.3));\n",
              "      fill: #FFFFFF;\n",
              "    }\n",
              "  </style>\n",
              "\n",
              "      <script>\n",
              "        const buttonEl =\n",
              "          document.querySelector('#df-5a180efd-e84c-44f0-95cc-2a0230961562 button.colab-df-convert');\n",
              "        buttonEl.style.display =\n",
              "          google.colab.kernel.accessAllowed ? 'block' : 'none';\n",
              "\n",
              "        async function convertToInteractive(key) {\n",
              "          const element = document.querySelector('#df-5a180efd-e84c-44f0-95cc-2a0230961562');\n",
              "          const dataTable =\n",
              "            await google.colab.kernel.invokeFunction('convertToInteractive',\n",
              "                                                     [key], {});\n",
              "          if (!dataTable) return;\n",
              "\n",
              "          const docLinkHtml = 'Like what you see? Visit the ' +\n",
              "            '<a target=\"_blank\" href=https://colab.research.google.com/notebooks/data_table.ipynb>data table notebook</a>'\n",
              "            + ' to learn more about interactive tables.';\n",
              "          element.innerHTML = '';\n",
              "          dataTable['output_type'] = 'display_data';\n",
              "          await google.colab.output.renderOutput(dataTable, element);\n",
              "          const docLink = document.createElement('div');\n",
              "          docLink.innerHTML = docLinkHtml;\n",
              "          element.appendChild(docLink);\n",
              "        }\n",
              "      </script>\n",
              "    </div>\n",
              "  </div>\n",
              "  "
            ]
          },
          "metadata": {},
          "execution_count": 26
        }
      ]
    },
    {
      "cell_type": "code",
      "source": [
        "data_process.M.value_counts()"
      ],
      "metadata": {
        "colab": {
          "base_uri": "https://localhost:8080/"
        },
        "id": "vZ6aC3zGP47I",
        "outputId": "19ba2a9d-2993-4648-8498-95efd38cec9a"
      },
      "execution_count": 27,
      "outputs": [
        {
          "output_type": "execute_result",
          "data": {
            "text/plain": [
              "1    10365\n",
              "4    10358\n",
              "3    10357\n",
              "2    10351\n",
              "Name: M, dtype: int64"
            ]
          },
          "metadata": {},
          "execution_count": 27
        }
      ]
    },
    {
      "cell_type": "markdown",
      "source": [
        "**Note: Run this cell below twice**"
      ],
      "metadata": {
        "id": "MBhfgGOllBc4"
      }
    },
    {
      "cell_type": "code",
      "source": [
        "# Concat RFM quartile values to create RFM Segments\n",
        "def join_rfm(x): \n",
        "    return str(x['R']) + str(x['F']) + str(x['M'])\n",
        "\n",
        "data_process['RFM_Segment'] = data_process.apply(join_rfm, axis=1).astype(str)\n",
        "rfm = data_process\n",
        "rfm.head()"
      ],
      "metadata": {
        "colab": {
          "base_uri": "https://localhost:8080/",
          "height": 237
        },
        "id": "BxlSHKWfQAOW",
        "outputId": "bf688f87-1833-4a95-ceae-19ff20486adb"
      },
      "execution_count": 34,
      "outputs": [
        {
          "output_type": "execute_result",
          "data": {
            "text/plain": [
              "                                  Recency  Frequency  Monetary  R  F  M  \\\n",
              "customer_unique_id                                                        \n",
              "0000b849f77a49e4a4ce2b2a4ca5be3f      170          2    136.26  2  1  2   \n",
              "0000f46a3911fa3c0805444483337064      126          3    583.87  3  2  4   \n",
              "0004bd2a26a76fe21f786e4fbd80607f        8          3    336.11  4  2  3   \n",
              "00050ab1314c0e55a6ca13cf7181fecf      220          1     80.18  2  1  1   \n",
              "0005ef4cd20d2893f0d9fbd94d3c0d97      482          1    187.91  1  1  2   \n",
              "\n",
              "                                 RFM_Segment  RFM_Score  \n",
              "customer_unique_id                                       \n",
              "0000b849f77a49e4a4ce2b2a4ca5be3f         212          5  \n",
              "0000f46a3911fa3c0805444483337064         324          9  \n",
              "0004bd2a26a76fe21f786e4fbd80607f         423          9  \n",
              "00050ab1314c0e55a6ca13cf7181fecf         211          4  \n",
              "0005ef4cd20d2893f0d9fbd94d3c0d97         112          4  "
            ],
            "text/html": [
              "\n",
              "  <div id=\"df-3f5d1115-12de-4740-9ed9-86c83531e4ae\">\n",
              "    <div class=\"colab-df-container\">\n",
              "      <div>\n",
              "<style scoped>\n",
              "    .dataframe tbody tr th:only-of-type {\n",
              "        vertical-align: middle;\n",
              "    }\n",
              "\n",
              "    .dataframe tbody tr th {\n",
              "        vertical-align: top;\n",
              "    }\n",
              "\n",
              "    .dataframe thead th {\n",
              "        text-align: right;\n",
              "    }\n",
              "</style>\n",
              "<table border=\"1\" class=\"dataframe\">\n",
              "  <thead>\n",
              "    <tr style=\"text-align: right;\">\n",
              "      <th></th>\n",
              "      <th>Recency</th>\n",
              "      <th>Frequency</th>\n",
              "      <th>Monetary</th>\n",
              "      <th>R</th>\n",
              "      <th>F</th>\n",
              "      <th>M</th>\n",
              "      <th>RFM_Segment</th>\n",
              "      <th>RFM_Score</th>\n",
              "    </tr>\n",
              "    <tr>\n",
              "      <th>customer_unique_id</th>\n",
              "      <th></th>\n",
              "      <th></th>\n",
              "      <th></th>\n",
              "      <th></th>\n",
              "      <th></th>\n",
              "      <th></th>\n",
              "      <th></th>\n",
              "      <th></th>\n",
              "    </tr>\n",
              "  </thead>\n",
              "  <tbody>\n",
              "    <tr>\n",
              "      <th>0000b849f77a49e4a4ce2b2a4ca5be3f</th>\n",
              "      <td>170</td>\n",
              "      <td>2</td>\n",
              "      <td>136.26</td>\n",
              "      <td>2</td>\n",
              "      <td>1</td>\n",
              "      <td>2</td>\n",
              "      <td>212</td>\n",
              "      <td>5</td>\n",
              "    </tr>\n",
              "    <tr>\n",
              "      <th>0000f46a3911fa3c0805444483337064</th>\n",
              "      <td>126</td>\n",
              "      <td>3</td>\n",
              "      <td>583.87</td>\n",
              "      <td>3</td>\n",
              "      <td>2</td>\n",
              "      <td>4</td>\n",
              "      <td>324</td>\n",
              "      <td>9</td>\n",
              "    </tr>\n",
              "    <tr>\n",
              "      <th>0004bd2a26a76fe21f786e4fbd80607f</th>\n",
              "      <td>8</td>\n",
              "      <td>3</td>\n",
              "      <td>336.11</td>\n",
              "      <td>4</td>\n",
              "      <td>2</td>\n",
              "      <td>3</td>\n",
              "      <td>423</td>\n",
              "      <td>9</td>\n",
              "    </tr>\n",
              "    <tr>\n",
              "      <th>00050ab1314c0e55a6ca13cf7181fecf</th>\n",
              "      <td>220</td>\n",
              "      <td>1</td>\n",
              "      <td>80.18</td>\n",
              "      <td>2</td>\n",
              "      <td>1</td>\n",
              "      <td>1</td>\n",
              "      <td>211</td>\n",
              "      <td>4</td>\n",
              "    </tr>\n",
              "    <tr>\n",
              "      <th>0005ef4cd20d2893f0d9fbd94d3c0d97</th>\n",
              "      <td>482</td>\n",
              "      <td>1</td>\n",
              "      <td>187.91</td>\n",
              "      <td>1</td>\n",
              "      <td>1</td>\n",
              "      <td>2</td>\n",
              "      <td>112</td>\n",
              "      <td>4</td>\n",
              "    </tr>\n",
              "  </tbody>\n",
              "</table>\n",
              "</div>\n",
              "      <button class=\"colab-df-convert\" onclick=\"convertToInteractive('df-3f5d1115-12de-4740-9ed9-86c83531e4ae')\"\n",
              "              title=\"Convert this dataframe to an interactive table.\"\n",
              "              style=\"display:none;\">\n",
              "        \n",
              "  <svg xmlns=\"http://www.w3.org/2000/svg\" height=\"24px\"viewBox=\"0 0 24 24\"\n",
              "       width=\"24px\">\n",
              "    <path d=\"M0 0h24v24H0V0z\" fill=\"none\"/>\n",
              "    <path d=\"M18.56 5.44l.94 2.06.94-2.06 2.06-.94-2.06-.94-.94-2.06-.94 2.06-2.06.94zm-11 1L8.5 8.5l.94-2.06 2.06-.94-2.06-.94L8.5 2.5l-.94 2.06-2.06.94zm10 10l.94 2.06.94-2.06 2.06-.94-2.06-.94-.94-2.06-.94 2.06-2.06.94z\"/><path d=\"M17.41 7.96l-1.37-1.37c-.4-.4-.92-.59-1.43-.59-.52 0-1.04.2-1.43.59L10.3 9.45l-7.72 7.72c-.78.78-.78 2.05 0 2.83L4 21.41c.39.39.9.59 1.41.59.51 0 1.02-.2 1.41-.59l7.78-7.78 2.81-2.81c.8-.78.8-2.07 0-2.86zM5.41 20L4 18.59l7.72-7.72 1.47 1.35L5.41 20z\"/>\n",
              "  </svg>\n",
              "      </button>\n",
              "      \n",
              "  <style>\n",
              "    .colab-df-container {\n",
              "      display:flex;\n",
              "      flex-wrap:wrap;\n",
              "      gap: 12px;\n",
              "    }\n",
              "\n",
              "    .colab-df-convert {\n",
              "      background-color: #E8F0FE;\n",
              "      border: none;\n",
              "      border-radius: 50%;\n",
              "      cursor: pointer;\n",
              "      display: none;\n",
              "      fill: #1967D2;\n",
              "      height: 32px;\n",
              "      padding: 0 0 0 0;\n",
              "      width: 32px;\n",
              "    }\n",
              "\n",
              "    .colab-df-convert:hover {\n",
              "      background-color: #E2EBFA;\n",
              "      box-shadow: 0px 1px 2px rgba(60, 64, 67, 0.3), 0px 1px 3px 1px rgba(60, 64, 67, 0.15);\n",
              "      fill: #174EA6;\n",
              "    }\n",
              "\n",
              "    [theme=dark] .colab-df-convert {\n",
              "      background-color: #3B4455;\n",
              "      fill: #D2E3FC;\n",
              "    }\n",
              "\n",
              "    [theme=dark] .colab-df-convert:hover {\n",
              "      background-color: #434B5C;\n",
              "      box-shadow: 0px 1px 3px 1px rgba(0, 0, 0, 0.15);\n",
              "      filter: drop-shadow(0px 1px 2px rgba(0, 0, 0, 0.3));\n",
              "      fill: #FFFFFF;\n",
              "    }\n",
              "  </style>\n",
              "\n",
              "      <script>\n",
              "        const buttonEl =\n",
              "          document.querySelector('#df-3f5d1115-12de-4740-9ed9-86c83531e4ae button.colab-df-convert');\n",
              "        buttonEl.style.display =\n",
              "          google.colab.kernel.accessAllowed ? 'block' : 'none';\n",
              "\n",
              "        async function convertToInteractive(key) {\n",
              "          const element = document.querySelector('#df-3f5d1115-12de-4740-9ed9-86c83531e4ae');\n",
              "          const dataTable =\n",
              "            await google.colab.kernel.invokeFunction('convertToInteractive',\n",
              "                                                     [key], {});\n",
              "          if (!dataTable) return;\n",
              "\n",
              "          const docLinkHtml = 'Like what you see? Visit the ' +\n",
              "            '<a target=\"_blank\" href=https://colab.research.google.com/notebooks/data_table.ipynb>data table notebook</a>'\n",
              "            + ' to learn more about interactive tables.';\n",
              "          element.innerHTML = '';\n",
              "          dataTable['output_type'] = 'display_data';\n",
              "          await google.colab.output.renderOutput(dataTable, element);\n",
              "          const docLink = document.createElement('div');\n",
              "          docLink.innerHTML = docLinkHtml;\n",
              "          element.appendChild(docLink);\n",
              "        }\n",
              "      </script>\n",
              "    </div>\n",
              "  </div>\n",
              "  "
            ]
          },
          "metadata": {},
          "execution_count": 34
        }
      ]
    },
    {
      "cell_type": "code",
      "source": [
        "# Count num of unique segments\n",
        "rfm_count_unique = rfm.groupby('RFM_Segment')['RFM_Segment'].nunique()\n",
        "rfm_count_unique.sum()"
      ],
      "metadata": {
        "colab": {
          "base_uri": "https://localhost:8080/"
        },
        "id": "unJrkK51QCYe",
        "outputId": "4cb0c6f1-5782-4ceb-f40f-6db706848789"
      },
      "execution_count": 29,
      "outputs": [
        {
          "output_type": "execute_result",
          "data": {
            "text/plain": [
              "48"
            ]
          },
          "metadata": {},
          "execution_count": 29
        }
      ]
    },
    {
      "cell_type": "code",
      "source": [
        "rfm['RFM_Score'] = rfm[['R','F','M']].sum(axis=1)\n",
        "rfm['RFM_Score'].head()"
      ],
      "metadata": {
        "colab": {
          "base_uri": "https://localhost:8080/"
        },
        "id": "yCgE3jq3QDZx",
        "outputId": "4fa297ea-637c-41e0-bbed-27ae817deb8a"
      },
      "execution_count": 30,
      "outputs": [
        {
          "output_type": "execute_result",
          "data": {
            "text/plain": [
              "customer_unique_id\n",
              "0000b849f77a49e4a4ce2b2a4ca5be3f    5\n",
              "0000f46a3911fa3c0805444483337064    9\n",
              "0004bd2a26a76fe21f786e4fbd80607f    9\n",
              "00050ab1314c0e55a6ca13cf7181fecf    4\n",
              "0005ef4cd20d2893f0d9fbd94d3c0d97    4\n",
              "Name: RFM_Score, dtype: int64"
            ]
          },
          "metadata": {},
          "execution_count": 30
        }
      ]
    },
    {
      "cell_type": "markdown",
      "source": [
        "Segmentation using RFM Analysis | Identify Upselling and Cross selling opportunities"
      ],
      "metadata": {
        "id": "nFEpBNdpQTJ0"
      }
    },
    {
      "cell_type": "code",
      "source": [
        "def rfm_level(df):\n",
        "    if (df['RFM_Segment'] >= 434 or (df['RFM_Score'] >= 9)) :\n",
        "        return 'VVIP - Can\\'t Loose Them'\n",
        "    elif ((df['RFM_Score'] >= 8) and (df['M'] == 4)):\n",
        "        return 'Champions Big Spenders'\n",
        "    elif ((df['RFM_Score'] >= 6) and (df['F'] >= 2)):\n",
        "        return 'Loyal Customers'\n",
        "    elif ((df['RFM_Segment'] >= 221) or (df['RFM_Score'] >= 6)):\n",
        "        return 'Potential Loyalists'\n",
        "    elif (((df['RFM_Segment'] >= 121) and (df['R'] == 1)) or df['RFM_Score'] == 5):\n",
        "        return 'Needs Attention'\n",
        "    elif ((df['RFM_Score'] >= 4) and (df['R'] == 1)):\n",
        "        return 'Hibernating - Almost Lost'\n",
        "    else:\n",
        "        return 'Lost Customers'"
      ],
      "metadata": {
        "id": "V8Q3o4d4QRgj"
      },
      "execution_count": 31,
      "outputs": []
    },
    {
      "cell_type": "code",
      "source": [
        "# Define rfm_level function\n",
        "def rfm_action(df):\n",
        "    if (df['RFM_Segment'] >= 434 or (df['RFM_Score'] >= 9)) :\n",
        "        return 'No Price Incentives; Offer Limited edition and Loyality programs'\n",
        "    elif ((df['RFM_Score'] >= 8) and (df['M'] == 4)):\n",
        "        return 'Upsell most expensive items'\n",
        "    elif ((df['RFM_Score'] >= 6) and (df['F'] >= 2)):\n",
        "        return 'Loyality programs;Cross Sell'\n",
        "    elif ((df['RFM_Segment'] >= 221) or (df['RFM_Score'] >= 6)):\n",
        "        return 'Cross Sell Recommendations and Discount coupons'\n",
        "    elif (((df['RFM_Segment'] >= 121) and (df['R'] == 1)) or df['RFM_Score'] == 5):\n",
        "        return 'Price incentives and Limited time offer'\n",
        "    elif ((df['RFM_Score'] >= 4) and (df['R'] == 1)):\n",
        "        return 'Aggressive price incentives'\n",
        "    else:\n",
        "        return 'Don\\'t spend too much trying to re-acquire'"
      ],
      "metadata": {
        "id": "2ibvpDdgQcv3"
      },
      "execution_count": 32,
      "outputs": []
    },
    {
      "cell_type": "code",
      "source": [
        "# Create a new variable RFM_Level\n",
        "rfm['RFM_Segment'] = rfm.RFM_Segment.apply(lambda x: int(x))\n",
        "rfm['Customer Segment'] = rfm.apply(rfm_level, axis=1)\n",
        "# Create a new variable RFM_Level\n",
        "rfm['Marketing Action'] = rfm.apply(rfm_action, axis=1)\n",
        "rfm.head(10)"
      ],
      "metadata": {
        "colab": {
          "base_uri": "https://localhost:8080/",
          "height": 394
        },
        "id": "0IYPIKb7QeDA",
        "outputId": "2f7d53f3-75a3-46fa-ab98-89676173f799"
      },
      "execution_count": 35,
      "outputs": [
        {
          "output_type": "execute_result",
          "data": {
            "text/plain": [
              "                                  Recency  Frequency  Monetary  R  F  M  \\\n",
              "customer_unique_id                                                        \n",
              "0000b849f77a49e4a4ce2b2a4ca5be3f      170          2    136.26  2  1  2   \n",
              "0000f46a3911fa3c0805444483337064      126          3    583.87  3  2  4   \n",
              "0004bd2a26a76fe21f786e4fbd80607f        8          3    336.11  4  2  3   \n",
              "00050ab1314c0e55a6ca13cf7181fecf      220          1     80.18  2  1  1   \n",
              "0005ef4cd20d2893f0d9fbd94d3c0d97      482          1    187.91  1  1  2   \n",
              "000949456b182f53c18b68d6babc79c1      106          1    116.90  3  1  1   \n",
              "000a5ad9c4601d2bbdd9ed765d5213b3      168          1    462.72  2  1  4   \n",
              "000c8bdb58a29e7115cfc257230fb21b      227          2    852.54  2  1  4   \n",
              "000de6019bb59f34c099a907c151d855       24          1     96.66  4  1  1   \n",
              "000ec5bff359e1c0ad76a81a45cb598f       53          3    262.05  4  2  3   \n",
              "\n",
              "                                  RFM_Segment  RFM_Score  \\\n",
              "customer_unique_id                                         \n",
              "0000b849f77a49e4a4ce2b2a4ca5be3f          212          5   \n",
              "0000f46a3911fa3c0805444483337064          324          9   \n",
              "0004bd2a26a76fe21f786e4fbd80607f          423          9   \n",
              "00050ab1314c0e55a6ca13cf7181fecf          211          4   \n",
              "0005ef4cd20d2893f0d9fbd94d3c0d97          112          4   \n",
              "000949456b182f53c18b68d6babc79c1          311          5   \n",
              "000a5ad9c4601d2bbdd9ed765d5213b3          214          7   \n",
              "000c8bdb58a29e7115cfc257230fb21b          214          7   \n",
              "000de6019bb59f34c099a907c151d855          411          6   \n",
              "000ec5bff359e1c0ad76a81a45cb598f          423          9   \n",
              "\n",
              "                                           Customer Segment  \\\n",
              "customer_unique_id                                            \n",
              "0000b849f77a49e4a4ce2b2a4ca5be3f            Needs Attention   \n",
              "0000f46a3911fa3c0805444483337064    VVIP - Can't Loose Them   \n",
              "0004bd2a26a76fe21f786e4fbd80607f    VVIP - Can't Loose Them   \n",
              "00050ab1314c0e55a6ca13cf7181fecf             Lost Customers   \n",
              "0005ef4cd20d2893f0d9fbd94d3c0d97  Hibernating - Almost Lost   \n",
              "000949456b182f53c18b68d6babc79c1        Potential Loyalists   \n",
              "000a5ad9c4601d2bbdd9ed765d5213b3        Potential Loyalists   \n",
              "000c8bdb58a29e7115cfc257230fb21b        Potential Loyalists   \n",
              "000de6019bb59f34c099a907c151d855        Potential Loyalists   \n",
              "000ec5bff359e1c0ad76a81a45cb598f    VVIP - Can't Loose Them   \n",
              "\n",
              "                                                                   Marketing Action  \n",
              "customer_unique_id                                                                   \n",
              "0000b849f77a49e4a4ce2b2a4ca5be3f            Price incentives and Limited time offer  \n",
              "0000f46a3911fa3c0805444483337064  No Price Incentives; Offer Limited edition and...  \n",
              "0004bd2a26a76fe21f786e4fbd80607f  No Price Incentives; Offer Limited edition and...  \n",
              "00050ab1314c0e55a6ca13cf7181fecf          Don't spend too much trying to re-acquire  \n",
              "0005ef4cd20d2893f0d9fbd94d3c0d97                        Aggressive price incentives  \n",
              "000949456b182f53c18b68d6babc79c1    Cross Sell Recommendations and Discount coupons  \n",
              "000a5ad9c4601d2bbdd9ed765d5213b3    Cross Sell Recommendations and Discount coupons  \n",
              "000c8bdb58a29e7115cfc257230fb21b    Cross Sell Recommendations and Discount coupons  \n",
              "000de6019bb59f34c099a907c151d855    Cross Sell Recommendations and Discount coupons  \n",
              "000ec5bff359e1c0ad76a81a45cb598f  No Price Incentives; Offer Limited edition and...  "
            ],
            "text/html": [
              "\n",
              "  <div id=\"df-72dd60ce-32b4-4cfc-8702-7bf7c7aef10c\">\n",
              "    <div class=\"colab-df-container\">\n",
              "      <div>\n",
              "<style scoped>\n",
              "    .dataframe tbody tr th:only-of-type {\n",
              "        vertical-align: middle;\n",
              "    }\n",
              "\n",
              "    .dataframe tbody tr th {\n",
              "        vertical-align: top;\n",
              "    }\n",
              "\n",
              "    .dataframe thead th {\n",
              "        text-align: right;\n",
              "    }\n",
              "</style>\n",
              "<table border=\"1\" class=\"dataframe\">\n",
              "  <thead>\n",
              "    <tr style=\"text-align: right;\">\n",
              "      <th></th>\n",
              "      <th>Recency</th>\n",
              "      <th>Frequency</th>\n",
              "      <th>Monetary</th>\n",
              "      <th>R</th>\n",
              "      <th>F</th>\n",
              "      <th>M</th>\n",
              "      <th>RFM_Segment</th>\n",
              "      <th>RFM_Score</th>\n",
              "      <th>Customer Segment</th>\n",
              "      <th>Marketing Action</th>\n",
              "    </tr>\n",
              "    <tr>\n",
              "      <th>customer_unique_id</th>\n",
              "      <th></th>\n",
              "      <th></th>\n",
              "      <th></th>\n",
              "      <th></th>\n",
              "      <th></th>\n",
              "      <th></th>\n",
              "      <th></th>\n",
              "      <th></th>\n",
              "      <th></th>\n",
              "      <th></th>\n",
              "    </tr>\n",
              "  </thead>\n",
              "  <tbody>\n",
              "    <tr>\n",
              "      <th>0000b849f77a49e4a4ce2b2a4ca5be3f</th>\n",
              "      <td>170</td>\n",
              "      <td>2</td>\n",
              "      <td>136.26</td>\n",
              "      <td>2</td>\n",
              "      <td>1</td>\n",
              "      <td>2</td>\n",
              "      <td>212</td>\n",
              "      <td>5</td>\n",
              "      <td>Needs Attention</td>\n",
              "      <td>Price incentives and Limited time offer</td>\n",
              "    </tr>\n",
              "    <tr>\n",
              "      <th>0000f46a3911fa3c0805444483337064</th>\n",
              "      <td>126</td>\n",
              "      <td>3</td>\n",
              "      <td>583.87</td>\n",
              "      <td>3</td>\n",
              "      <td>2</td>\n",
              "      <td>4</td>\n",
              "      <td>324</td>\n",
              "      <td>9</td>\n",
              "      <td>VVIP - Can't Loose Them</td>\n",
              "      <td>No Price Incentives; Offer Limited edition and...</td>\n",
              "    </tr>\n",
              "    <tr>\n",
              "      <th>0004bd2a26a76fe21f786e4fbd80607f</th>\n",
              "      <td>8</td>\n",
              "      <td>3</td>\n",
              "      <td>336.11</td>\n",
              "      <td>4</td>\n",
              "      <td>2</td>\n",
              "      <td>3</td>\n",
              "      <td>423</td>\n",
              "      <td>9</td>\n",
              "      <td>VVIP - Can't Loose Them</td>\n",
              "      <td>No Price Incentives; Offer Limited edition and...</td>\n",
              "    </tr>\n",
              "    <tr>\n",
              "      <th>00050ab1314c0e55a6ca13cf7181fecf</th>\n",
              "      <td>220</td>\n",
              "      <td>1</td>\n",
              "      <td>80.18</td>\n",
              "      <td>2</td>\n",
              "      <td>1</td>\n",
              "      <td>1</td>\n",
              "      <td>211</td>\n",
              "      <td>4</td>\n",
              "      <td>Lost Customers</td>\n",
              "      <td>Don't spend too much trying to re-acquire</td>\n",
              "    </tr>\n",
              "    <tr>\n",
              "      <th>0005ef4cd20d2893f0d9fbd94d3c0d97</th>\n",
              "      <td>482</td>\n",
              "      <td>1</td>\n",
              "      <td>187.91</td>\n",
              "      <td>1</td>\n",
              "      <td>1</td>\n",
              "      <td>2</td>\n",
              "      <td>112</td>\n",
              "      <td>4</td>\n",
              "      <td>Hibernating - Almost Lost</td>\n",
              "      <td>Aggressive price incentives</td>\n",
              "    </tr>\n",
              "    <tr>\n",
              "      <th>000949456b182f53c18b68d6babc79c1</th>\n",
              "      <td>106</td>\n",
              "      <td>1</td>\n",
              "      <td>116.90</td>\n",
              "      <td>3</td>\n",
              "      <td>1</td>\n",
              "      <td>1</td>\n",
              "      <td>311</td>\n",
              "      <td>5</td>\n",
              "      <td>Potential Loyalists</td>\n",
              "      <td>Cross Sell Recommendations and Discount coupons</td>\n",
              "    </tr>\n",
              "    <tr>\n",
              "      <th>000a5ad9c4601d2bbdd9ed765d5213b3</th>\n",
              "      <td>168</td>\n",
              "      <td>1</td>\n",
              "      <td>462.72</td>\n",
              "      <td>2</td>\n",
              "      <td>1</td>\n",
              "      <td>4</td>\n",
              "      <td>214</td>\n",
              "      <td>7</td>\n",
              "      <td>Potential Loyalists</td>\n",
              "      <td>Cross Sell Recommendations and Discount coupons</td>\n",
              "    </tr>\n",
              "    <tr>\n",
              "      <th>000c8bdb58a29e7115cfc257230fb21b</th>\n",
              "      <td>227</td>\n",
              "      <td>2</td>\n",
              "      <td>852.54</td>\n",
              "      <td>2</td>\n",
              "      <td>1</td>\n",
              "      <td>4</td>\n",
              "      <td>214</td>\n",
              "      <td>7</td>\n",
              "      <td>Potential Loyalists</td>\n",
              "      <td>Cross Sell Recommendations and Discount coupons</td>\n",
              "    </tr>\n",
              "    <tr>\n",
              "      <th>000de6019bb59f34c099a907c151d855</th>\n",
              "      <td>24</td>\n",
              "      <td>1</td>\n",
              "      <td>96.66</td>\n",
              "      <td>4</td>\n",
              "      <td>1</td>\n",
              "      <td>1</td>\n",
              "      <td>411</td>\n",
              "      <td>6</td>\n",
              "      <td>Potential Loyalists</td>\n",
              "      <td>Cross Sell Recommendations and Discount coupons</td>\n",
              "    </tr>\n",
              "    <tr>\n",
              "      <th>000ec5bff359e1c0ad76a81a45cb598f</th>\n",
              "      <td>53</td>\n",
              "      <td>3</td>\n",
              "      <td>262.05</td>\n",
              "      <td>4</td>\n",
              "      <td>2</td>\n",
              "      <td>3</td>\n",
              "      <td>423</td>\n",
              "      <td>9</td>\n",
              "      <td>VVIP - Can't Loose Them</td>\n",
              "      <td>No Price Incentives; Offer Limited edition and...</td>\n",
              "    </tr>\n",
              "  </tbody>\n",
              "</table>\n",
              "</div>\n",
              "      <button class=\"colab-df-convert\" onclick=\"convertToInteractive('df-72dd60ce-32b4-4cfc-8702-7bf7c7aef10c')\"\n",
              "              title=\"Convert this dataframe to an interactive table.\"\n",
              "              style=\"display:none;\">\n",
              "        \n",
              "  <svg xmlns=\"http://www.w3.org/2000/svg\" height=\"24px\"viewBox=\"0 0 24 24\"\n",
              "       width=\"24px\">\n",
              "    <path d=\"M0 0h24v24H0V0z\" fill=\"none\"/>\n",
              "    <path d=\"M18.56 5.44l.94 2.06.94-2.06 2.06-.94-2.06-.94-.94-2.06-.94 2.06-2.06.94zm-11 1L8.5 8.5l.94-2.06 2.06-.94-2.06-.94L8.5 2.5l-.94 2.06-2.06.94zm10 10l.94 2.06.94-2.06 2.06-.94-2.06-.94-.94-2.06-.94 2.06-2.06.94z\"/><path d=\"M17.41 7.96l-1.37-1.37c-.4-.4-.92-.59-1.43-.59-.52 0-1.04.2-1.43.59L10.3 9.45l-7.72 7.72c-.78.78-.78 2.05 0 2.83L4 21.41c.39.39.9.59 1.41.59.51 0 1.02-.2 1.41-.59l7.78-7.78 2.81-2.81c.8-.78.8-2.07 0-2.86zM5.41 20L4 18.59l7.72-7.72 1.47 1.35L5.41 20z\"/>\n",
              "  </svg>\n",
              "      </button>\n",
              "      \n",
              "  <style>\n",
              "    .colab-df-container {\n",
              "      display:flex;\n",
              "      flex-wrap:wrap;\n",
              "      gap: 12px;\n",
              "    }\n",
              "\n",
              "    .colab-df-convert {\n",
              "      background-color: #E8F0FE;\n",
              "      border: none;\n",
              "      border-radius: 50%;\n",
              "      cursor: pointer;\n",
              "      display: none;\n",
              "      fill: #1967D2;\n",
              "      height: 32px;\n",
              "      padding: 0 0 0 0;\n",
              "      width: 32px;\n",
              "    }\n",
              "\n",
              "    .colab-df-convert:hover {\n",
              "      background-color: #E2EBFA;\n",
              "      box-shadow: 0px 1px 2px rgba(60, 64, 67, 0.3), 0px 1px 3px 1px rgba(60, 64, 67, 0.15);\n",
              "      fill: #174EA6;\n",
              "    }\n",
              "\n",
              "    [theme=dark] .colab-df-convert {\n",
              "      background-color: #3B4455;\n",
              "      fill: #D2E3FC;\n",
              "    }\n",
              "\n",
              "    [theme=dark] .colab-df-convert:hover {\n",
              "      background-color: #434B5C;\n",
              "      box-shadow: 0px 1px 3px 1px rgba(0, 0, 0, 0.15);\n",
              "      filter: drop-shadow(0px 1px 2px rgba(0, 0, 0, 0.3));\n",
              "      fill: #FFFFFF;\n",
              "    }\n",
              "  </style>\n",
              "\n",
              "      <script>\n",
              "        const buttonEl =\n",
              "          document.querySelector('#df-72dd60ce-32b4-4cfc-8702-7bf7c7aef10c button.colab-df-convert');\n",
              "        buttonEl.style.display =\n",
              "          google.colab.kernel.accessAllowed ? 'block' : 'none';\n",
              "\n",
              "        async function convertToInteractive(key) {\n",
              "          const element = document.querySelector('#df-72dd60ce-32b4-4cfc-8702-7bf7c7aef10c');\n",
              "          const dataTable =\n",
              "            await google.colab.kernel.invokeFunction('convertToInteractive',\n",
              "                                                     [key], {});\n",
              "          if (!dataTable) return;\n",
              "\n",
              "          const docLinkHtml = 'Like what you see? Visit the ' +\n",
              "            '<a target=\"_blank\" href=https://colab.research.google.com/notebooks/data_table.ipynb>data table notebook</a>'\n",
              "            + ' to learn more about interactive tables.';\n",
              "          element.innerHTML = '';\n",
              "          dataTable['output_type'] = 'display_data';\n",
              "          await google.colab.output.renderOutput(dataTable, element);\n",
              "          const docLink = document.createElement('div');\n",
              "          docLink.innerHTML = docLinkHtml;\n",
              "          element.appendChild(docLink);\n",
              "        }\n",
              "      </script>\n",
              "    </div>\n",
              "  </div>\n",
              "  "
            ]
          },
          "metadata": {},
          "execution_count": 35
        }
      ]
    },
    {
      "cell_type": "markdown",
      "source": [
        "Group Customer by their Customer Segment"
      ],
      "metadata": {
        "id": "ISadThM2QtL8"
      }
    },
    {
      "cell_type": "code",
      "source": [
        "# Calculate average values for each Customer Segment, and return a size of each segment \n",
        "rfm_level_agg = rfm.groupby('Customer Segment').agg({\n",
        "    'Recency': 'mean',\n",
        "    'Frequency': 'mean',\n",
        "    'Monetary': ['mean', 'count'],\n",
        "    'Marketing Action': 'unique'\n",
        "}).round(1)\n",
        "# Print the aggregated dataset\n",
        "print(rfm_level_agg)"
      ],
      "metadata": {
        "colab": {
          "base_uri": "https://localhost:8080/"
        },
        "id": "gzJ_4_ZQQtqL",
        "outputId": "cbe76205-343a-4576-a833-c053b32df822"
      },
      "execution_count": 36,
      "outputs": [
        {
          "output_type": "stream",
          "name": "stdout",
          "text": [
            "                          Recency Frequency Monetary         \\\n",
            "                             mean      mean     mean  count   \n",
            "Customer Segment                                              \n",
            "Champions Big Spenders      160.5       2.8    816.2   1563   \n",
            "Hibernating - Almost Lost   349.1       1.4    188.0   2541   \n",
            "Lost Customers              298.5       1.2     78.2   6856   \n",
            "Loyal Customers             148.6       3.2    319.8   5335   \n",
            "Needs Attention             245.6       1.8    241.5   3735   \n",
            "Potential Loyalists         102.8       1.6    279.4  11492   \n",
            "VVIP - Can't Loose Them      61.6       4.0    716.5   9909   \n",
            "\n",
            "                                                            Marketing Action  \n",
            "                                                                      unique  \n",
            "Customer Segment                                                              \n",
            "Champions Big Spenders                         [Upsell most expensive items]  \n",
            "Hibernating - Almost Lost                      [Aggressive price incentives]  \n",
            "Lost Customers                   [Don't spend too much trying to re-acquire]  \n",
            "Loyal Customers                               [Loyality programs;Cross Sell]  \n",
            "Needs Attention                    [Price incentives and Limited time offer]  \n",
            "Potential Loyalists        [Cross Sell Recommendations and Discount coupons]  \n",
            "VVIP - Can't Loose Them    [No Price Incentives; Offer Limited edition an...  \n"
          ]
        }
      ]
    },
    {
      "cell_type": "code",
      "source": [
        "rfm_level_ag = pd.DataFrame(rfm_level_agg)\n",
        "rfm_level_ag = rfm_level_ag.reset_index()\n",
        "rfm_level_ag"
      ],
      "metadata": {
        "colab": {
          "base_uri": "https://localhost:8080/",
          "height": 300
        },
        "id": "a2Q-V3zvQvrD",
        "outputId": "422f566b-df5b-4d0d-acff-71c02ee36184"
      },
      "execution_count": 37,
      "outputs": [
        {
          "output_type": "execute_result",
          "data": {
            "text/plain": [
              "            Customer Segment Recency Frequency Monetary         \\\n",
              "                                mean      mean     mean  count   \n",
              "0     Champions Big Spenders   160.5       2.8    816.2   1563   \n",
              "1  Hibernating - Almost Lost   349.1       1.4    188.0   2541   \n",
              "2             Lost Customers   298.5       1.2     78.2   6856   \n",
              "3            Loyal Customers   148.6       3.2    319.8   5335   \n",
              "4            Needs Attention   245.6       1.8    241.5   3735   \n",
              "5        Potential Loyalists   102.8       1.6    279.4  11492   \n",
              "6    VVIP - Can't Loose Them    61.6       4.0    716.5   9909   \n",
              "\n",
              "                                    Marketing Action  \n",
              "                                              unique  \n",
              "0                      [Upsell most expensive items]  \n",
              "1                      [Aggressive price incentives]  \n",
              "2        [Don't spend too much trying to re-acquire]  \n",
              "3                     [Loyality programs;Cross Sell]  \n",
              "4          [Price incentives and Limited time offer]  \n",
              "5  [Cross Sell Recommendations and Discount coupons]  \n",
              "6  [No Price Incentives; Offer Limited edition an...  "
            ],
            "text/html": [
              "\n",
              "  <div id=\"df-f6628ff1-5ba7-45c0-94a4-df24c652e3cf\">\n",
              "    <div class=\"colab-df-container\">\n",
              "      <div>\n",
              "<style scoped>\n",
              "    .dataframe tbody tr th:only-of-type {\n",
              "        vertical-align: middle;\n",
              "    }\n",
              "\n",
              "    .dataframe tbody tr th {\n",
              "        vertical-align: top;\n",
              "    }\n",
              "\n",
              "    .dataframe thead tr th {\n",
              "        text-align: left;\n",
              "    }\n",
              "</style>\n",
              "<table border=\"1\" class=\"dataframe\">\n",
              "  <thead>\n",
              "    <tr>\n",
              "      <th></th>\n",
              "      <th>Customer Segment</th>\n",
              "      <th>Recency</th>\n",
              "      <th>Frequency</th>\n",
              "      <th colspan=\"2\" halign=\"left\">Monetary</th>\n",
              "      <th>Marketing Action</th>\n",
              "    </tr>\n",
              "    <tr>\n",
              "      <th></th>\n",
              "      <th></th>\n",
              "      <th>mean</th>\n",
              "      <th>mean</th>\n",
              "      <th>mean</th>\n",
              "      <th>count</th>\n",
              "      <th>unique</th>\n",
              "    </tr>\n",
              "  </thead>\n",
              "  <tbody>\n",
              "    <tr>\n",
              "      <th>0</th>\n",
              "      <td>Champions Big Spenders</td>\n",
              "      <td>160.5</td>\n",
              "      <td>2.8</td>\n",
              "      <td>816.2</td>\n",
              "      <td>1563</td>\n",
              "      <td>[Upsell most expensive items]</td>\n",
              "    </tr>\n",
              "    <tr>\n",
              "      <th>1</th>\n",
              "      <td>Hibernating - Almost Lost</td>\n",
              "      <td>349.1</td>\n",
              "      <td>1.4</td>\n",
              "      <td>188.0</td>\n",
              "      <td>2541</td>\n",
              "      <td>[Aggressive price incentives]</td>\n",
              "    </tr>\n",
              "    <tr>\n",
              "      <th>2</th>\n",
              "      <td>Lost Customers</td>\n",
              "      <td>298.5</td>\n",
              "      <td>1.2</td>\n",
              "      <td>78.2</td>\n",
              "      <td>6856</td>\n",
              "      <td>[Don't spend too much trying to re-acquire]</td>\n",
              "    </tr>\n",
              "    <tr>\n",
              "      <th>3</th>\n",
              "      <td>Loyal Customers</td>\n",
              "      <td>148.6</td>\n",
              "      <td>3.2</td>\n",
              "      <td>319.8</td>\n",
              "      <td>5335</td>\n",
              "      <td>[Loyality programs;Cross Sell]</td>\n",
              "    </tr>\n",
              "    <tr>\n",
              "      <th>4</th>\n",
              "      <td>Needs Attention</td>\n",
              "      <td>245.6</td>\n",
              "      <td>1.8</td>\n",
              "      <td>241.5</td>\n",
              "      <td>3735</td>\n",
              "      <td>[Price incentives and Limited time offer]</td>\n",
              "    </tr>\n",
              "    <tr>\n",
              "      <th>5</th>\n",
              "      <td>Potential Loyalists</td>\n",
              "      <td>102.8</td>\n",
              "      <td>1.6</td>\n",
              "      <td>279.4</td>\n",
              "      <td>11492</td>\n",
              "      <td>[Cross Sell Recommendations and Discount coupons]</td>\n",
              "    </tr>\n",
              "    <tr>\n",
              "      <th>6</th>\n",
              "      <td>VVIP - Can't Loose Them</td>\n",
              "      <td>61.6</td>\n",
              "      <td>4.0</td>\n",
              "      <td>716.5</td>\n",
              "      <td>9909</td>\n",
              "      <td>[No Price Incentives; Offer Limited edition an...</td>\n",
              "    </tr>\n",
              "  </tbody>\n",
              "</table>\n",
              "</div>\n",
              "      <button class=\"colab-df-convert\" onclick=\"convertToInteractive('df-f6628ff1-5ba7-45c0-94a4-df24c652e3cf')\"\n",
              "              title=\"Convert this dataframe to an interactive table.\"\n",
              "              style=\"display:none;\">\n",
              "        \n",
              "  <svg xmlns=\"http://www.w3.org/2000/svg\" height=\"24px\"viewBox=\"0 0 24 24\"\n",
              "       width=\"24px\">\n",
              "    <path d=\"M0 0h24v24H0V0z\" fill=\"none\"/>\n",
              "    <path d=\"M18.56 5.44l.94 2.06.94-2.06 2.06-.94-2.06-.94-.94-2.06-.94 2.06-2.06.94zm-11 1L8.5 8.5l.94-2.06 2.06-.94-2.06-.94L8.5 2.5l-.94 2.06-2.06.94zm10 10l.94 2.06.94-2.06 2.06-.94-2.06-.94-.94-2.06-.94 2.06-2.06.94z\"/><path d=\"M17.41 7.96l-1.37-1.37c-.4-.4-.92-.59-1.43-.59-.52 0-1.04.2-1.43.59L10.3 9.45l-7.72 7.72c-.78.78-.78 2.05 0 2.83L4 21.41c.39.39.9.59 1.41.59.51 0 1.02-.2 1.41-.59l7.78-7.78 2.81-2.81c.8-.78.8-2.07 0-2.86zM5.41 20L4 18.59l7.72-7.72 1.47 1.35L5.41 20z\"/>\n",
              "  </svg>\n",
              "      </button>\n",
              "      \n",
              "  <style>\n",
              "    .colab-df-container {\n",
              "      display:flex;\n",
              "      flex-wrap:wrap;\n",
              "      gap: 12px;\n",
              "    }\n",
              "\n",
              "    .colab-df-convert {\n",
              "      background-color: #E8F0FE;\n",
              "      border: none;\n",
              "      border-radius: 50%;\n",
              "      cursor: pointer;\n",
              "      display: none;\n",
              "      fill: #1967D2;\n",
              "      height: 32px;\n",
              "      padding: 0 0 0 0;\n",
              "      width: 32px;\n",
              "    }\n",
              "\n",
              "    .colab-df-convert:hover {\n",
              "      background-color: #E2EBFA;\n",
              "      box-shadow: 0px 1px 2px rgba(60, 64, 67, 0.3), 0px 1px 3px 1px rgba(60, 64, 67, 0.15);\n",
              "      fill: #174EA6;\n",
              "    }\n",
              "\n",
              "    [theme=dark] .colab-df-convert {\n",
              "      background-color: #3B4455;\n",
              "      fill: #D2E3FC;\n",
              "    }\n",
              "\n",
              "    [theme=dark] .colab-df-convert:hover {\n",
              "      background-color: #434B5C;\n",
              "      box-shadow: 0px 1px 3px 1px rgba(0, 0, 0, 0.15);\n",
              "      filter: drop-shadow(0px 1px 2px rgba(0, 0, 0, 0.3));\n",
              "      fill: #FFFFFF;\n",
              "    }\n",
              "  </style>\n",
              "\n",
              "      <script>\n",
              "        const buttonEl =\n",
              "          document.querySelector('#df-f6628ff1-5ba7-45c0-94a4-df24c652e3cf button.colab-df-convert');\n",
              "        buttonEl.style.display =\n",
              "          google.colab.kernel.accessAllowed ? 'block' : 'none';\n",
              "\n",
              "        async function convertToInteractive(key) {\n",
              "          const element = document.querySelector('#df-f6628ff1-5ba7-45c0-94a4-df24c652e3cf');\n",
              "          const dataTable =\n",
              "            await google.colab.kernel.invokeFunction('convertToInteractive',\n",
              "                                                     [key], {});\n",
              "          if (!dataTable) return;\n",
              "\n",
              "          const docLinkHtml = 'Like what you see? Visit the ' +\n",
              "            '<a target=\"_blank\" href=https://colab.research.google.com/notebooks/data_table.ipynb>data table notebook</a>'\n",
              "            + ' to learn more about interactive tables.';\n",
              "          element.innerHTML = '';\n",
              "          dataTable['output_type'] = 'display_data';\n",
              "          await google.colab.output.renderOutput(dataTable, element);\n",
              "          const docLink = document.createElement('div');\n",
              "          docLink.innerHTML = docLinkHtml;\n",
              "          element.appendChild(docLink);\n",
              "        }\n",
              "      </script>\n",
              "    </div>\n",
              "  </div>\n",
              "  "
            ]
          },
          "metadata": {},
          "execution_count": 37
        }
      ]
    },
    {
      "cell_type": "markdown",
      "source": [
        "From here, we can see that a sufficient percentage (~45%) of our customers are in the top tier RFM levels. Olist must be doing something right to be maintaining their loyalty! The other 55% will need some work."
      ],
      "metadata": {
        "id": "Q8vO4SBJSdT2"
      }
    },
    {
      "cell_type": "markdown",
      "source": [
        "**1. Potential Loyalists —**\n"
      ],
      "metadata": {
        "id": "DVDp1M4ulDSf"
      }
    },
    {
      "cell_type": "markdown",
      "source": [
        "High potential to enter our loyal customer segments, why not throw in some freebies on their next purchase to show that you value them!\n",
        "\n"
      ],
      "metadata": {
        "id": "O1P4hcMNlDZz"
      }
    },
    {
      "cell_type": "markdown",
      "source": [
        "**2. Needs Attention —**\n"
      ],
      "metadata": {
        "id": "-0kyCDp5lDuv"
      }
    },
    {
      "cell_type": "markdown",
      "source": [
        "Showing promising signs with quantity and value of their purchase but it has been a while since they last bought sometime from you. Let’s target them with their wishlist items and a limited time offer discount.\n",
        "\n"
      ],
      "metadata": {
        "id": "Sw3kkI2alDwr"
      }
    },
    {
      "cell_type": "markdown",
      "source": [
        "**3. Hibernating Almost Lost —**\n"
      ],
      "metadata": {
        "id": "zy11QWIElLpt"
      }
    },
    {
      "cell_type": "markdown",
      "source": [
        "Made some initial purchase but have not seen them since. Was it a bad customer experience? Or product-market fit? Let’s spend some resource build our brand awareness with them."
      ],
      "metadata": {
        "id": "rDHbE88ClLuV"
      }
    },
    {
      "cell_type": "markdown",
      "source": [
        "**4. Lost Customers —**"
      ],
      "metadata": {
        "id": "Hm1SvuDGlLwi"
      }
    },
    {
      "cell_type": "markdown",
      "source": [
        "Poorest performers of our RFM model. They might have went with our competitors for now and will require a different activation strategy to win them back.\n",
        "\n"
      ],
      "metadata": {
        "id": "RXFWAzSPlMI5"
      }
    },
    {
      "cell_type": "code",
      "source": [
        "rfm_level_agg.columns = rfm_level_agg.columns.droplevel()\n",
        "rfm_level_agg.columns = ['RecencyMean','FrequencyMean','MonetaryMean', 'Count', 'MarketingAction']\n",
        "#Create our plot and resize it.\n",
        "fig = plt.gcf()\n",
        "ax = fig.add_subplot()\n",
        "fig.set_size_inches(16, 10)\n",
        "squarify.plot(sizes=rfm_level_agg['Count'], \n",
        "              label=['Champions Big Spenders',\n",
        "                     'Hibernating - Almost Lost',\n",
        "                     'Lost Customers',\n",
        "                     'Loyal Customers',\n",
        "                     'Needs Attention',\n",
        "                     'Potential Loyalists',\n",
        "                     'VVIP - Can\\'t Loose Them'], alpha=.6, \n",
        "                      color=sns.color_palette(\"Spectral\", \n",
        "                                     len(rfm_level_agg)))\n",
        "plt.title(\"RFM Segments\",fontsize=40,fontweight=\"bold\")\n",
        "plt.axis('on')\n",
        "plt.show()"
      ],
      "metadata": {
        "colab": {
          "base_uri": "https://localhost:8080/",
          "height": 632
        },
        "id": "8ONpsc6QQzp_",
        "outputId": "ec8bc3b2-d8a0-468f-d7f1-b665224b231d"
      },
      "execution_count": 38,
      "outputs": [
        {
          "output_type": "display_data",
          "data": {
            "text/plain": [
              "<Figure size 1152x720 with 1 Axes>"
            ],
            "image/png": "[encoded data removed]"
          },
          "metadata": {
            "needs_background": "light"
          }
        }
      ]
    },
    {
      "cell_type": "markdown",
      "source": [
        "**Interactive Chart for Visualising Customer Segments**"
      ],
      "metadata": {
        "id": "U_1ObO4pSWZ1"
      }
    },
    {
      "cell_type": "code",
      "source": [
        "import plotly.graph_objects as go\n",
        "\n",
        "fig =go.Figure(go.Treemap(\n",
        "    labels = rfm_level_ag['Customer Segment'],\n",
        "    parents = ['Customer Segmentation', 'Customer Segmentation', 'Customer Segmentation', 'Customer Segmentation', 'Customer Segmentation', 'Customer Segmentation', 'Customer Segmentation'],   #rfm_level_ag[('Marketing Action', 'unique')].tolist(), \n",
        "    values= rfm_level_ag[('Monetary', 'count')]\n",
        "))\n",
        "\n",
        "fig.show()"
      ],
      "metadata": {
        "colab": {
          "base_uri": "https://localhost:8080/",
          "height": 542
        },
        "id": "FYVtWN-9RQk6",
        "outputId": "3a222ca4-0dd5-4014-9654-f67566ec94e7"
      },
      "execution_count": 39,
      "outputs": [
        {
          "output_type": "display_data",
          "data": {
            "text/html": [
              "<html>\n",
              "<head><meta charset=\"utf-8\" /></head>\n",
              "<body>\n",
              "    <div>            <script src=\"https://cdnjs.cloudflare.com/ajax/libs/mathjax/2.7.5/MathJax.js?config=TeX-AMS-MML_SVG\"></script><script type=\"text/javascript\">if (window.MathJax) {MathJax.Hub.Config({SVG: {font: \"STIX-Web\"}});}</script>                <script type=\"text/javascript\">window.PlotlyConfig = {MathJaxConfig: 'local'};</script>\n",
              "        <script src=\"https://cdn.plot.ly/plotly-2.8.3.min.js\"></script>                <div id=\"25513c27-0a18-4d56-b8fa-3419aa572b6d\" class=\"plotly-graph-div\" style=\"height:525px; width:100%;\"></div>            <script type=\"text/javascript\">                                    window.PLOTLYENV=window.PLOTLYENV || {};                                    if (document.getElementById(\"25513c27-0a18-4d56-b8fa-3419aa572b6d\")) {                    Plotly.newPlot(                        \"25513c27-0a18-4d56-b8fa-3419aa572b6d\",                        [{\"labels\":[\"Champions Big Spenders\",\"Hibernating - Almost Lost\",\"Lost Customers\",\"Loyal Customers\",\"Needs Attention\",\"Potential Loyalists\",\"VVIP - Can't Loose Them\"],\"parents\":[\"Customer Segmentation\",\"Customer Segmentation\",\"Customer Segmentation\",\"Customer Segmentation\",\"Customer Segmentation\",\"Customer Segmentation\",\"Customer Segmentation\"],\"values\":[1563,2541,6856,5335,3735,11492,9909],\"type\":\"treemap\"}],                        {\"template\":{\"data\":{\"bar\":[{\"error_x\":{\"color\":\"#2a3f5f\"},\"error_y\":{\"color\":\"#2a3f5f\"},\"marker\":{\"line\":{\"color\":\"#E5ECF6\",\"width\":0.5},\"pattern\":{\"fillmode\":\"overlay\",\"size\":10,\"solidity\":0.2}},\"type\":\"bar\"}],\"barpolar\":[{\"marker\":{\"line\":{\"color\":\"#E5ECF6\",\"width\":0.5},\"pattern\":{\"fillmode\":\"overlay\",\"size\":10,\"solidity\":0.2}},\"type\":\"barpolar\"}],\"carpet\":[{\"aaxis\":{\"endlinecolor\":\"#2a3f5f\",\"gridcolor\":\"white\",\"linecolor\":\"white\",\"minorgridcolor\":\"white\",\"startlinecolor\":\"#2a3f5f\"},\"baxis\":{\"endlinecolor\":\"#2a3f5f\",\"gridcolor\":\"white\",\"linecolor\":\"white\",\"minorgridcolor\":\"white\",\"startlinecolor\":\"#2a3f5f\"},\"type\":\"carpet\"}],\"choropleth\":[{\"colorbar\":{\"outlinewidth\":0,\"ticks\":\"\"},\"type\":\"choropleth\"}],\"contour\":[{\"colorbar\":{\"outlinewidth\":0,\"ticks\":\"\"},\"colorscale\":[[0.0,\"#0d0887\"],[0.1111111111111111,\"#46039f\"],[0.2222222222222222,\"#7201a8\"],[0.3333333333333333,\"#9c179e\"],[0.4444444444444444,\"#bd3786\"],[0.5555555555555556,\"#d8576b\"],[0.6666666666666666,\"#ed7953\"],[0.7777777777777778,\"#fb9f3a\"],[0.8888888888888888,\"#fdca26\"],[1.0,\"#f0f921\"]],\"type\":\"contour\"}],\"contourcarpet\":[{\"colorbar\":{\"outlinewidth\":0,\"ticks\":\"\"},\"type\":\"contourcarpet\"}],\"heatmap\":[{\"colorbar\":{\"outlinewidth\":0,\"ticks\":\"\"},\"colorscale\":[[0.0,\"#0d0887\"],[0.1111111111111111,\"#46039f\"],[0.2222222222222222,\"#7201a8\"],[0.3333333333333333,\"#9c179e\"],[0.4444444444444444,\"#bd3786\"],[0.5555555555555556,\"#d8576b\"],[0.6666666666666666,\"#ed7953\"],[0.7777777777777778,\"#fb9f3a\"],[0.8888888888888888,\"#fdca26\"],[1.0,\"#f0f921\"]],\"type\":\"heatmap\"}],\"heatmapgl\":[{\"colorbar\":{\"outlinewidth\":0,\"ticks\":\"\"},\"colorscale\":[[0.0,\"#0d0887\"],[0.1111111111111111,\"#46039f\"],[0.2222222222222222,\"#7201a8\"],[0.3333333333333333,\"#9c179e\"],[0.4444444444444444,\"#bd3786\"],[0.5555555555555556,\"#d8576b\"],[0.6666666666666666,\"#ed7953\"],[0.7777777777777778,\"#fb9f3a\"],[0.8888888888888888,\"#fdca26\"],[1.0,\"#f0f921\"]],\"type\":\"heatmapgl\"}],\"histogram\":[{\"marker\":{\"pattern\":{\"fillmode\":\"overlay\",\"size\":10,\"solidity\":0.2}},\"type\":\"histogram\"}],\"histogram2d\":[{\"colorbar\":{\"outlinewidth\":0,\"ticks\":\"\"},\"colorscale\":[[0.0,\"#0d0887\"],[0.1111111111111111,\"#46039f\"],[0.2222222222222222,\"#7201a8\"],[0.3333333333333333,\"#9c179e\"],[0.4444444444444444,\"#bd3786\"],[0.5555555555555556,\"#d8576b\"],[0.6666666666666666,\"#ed7953\"],[0.7777777777777778,\"#fb9f3a\"],[0.8888888888888888,\"#fdca26\"],[1.0,\"#f0f921\"]],\"type\":\"histogram2d\"}],\"histogram2dcontour\":[{\"colorbar\":{\"outlinewidth\":0,\"ticks\":\"\"},\"colorscale\":[[0.0,\"#0d0887\"],[0.1111111111111111,\"#46039f\"],[0.2222222222222222,\"#7201a8\"],[0.3333333333333333,\"#9c179e\"],[0.4444444444444444,\"#bd3786\"],[0.5555555555555556,\"#d8576b\"],[0.6666666666666666,\"#ed7953\"],[0.7777777777777778,\"#fb9f3a\"],[0.8888888888888888,\"#fdca26\"],[1.0,\"#f0f921\"]],\"type\":\"histogram2dcontour\"}],\"mesh3d\":[{\"colorbar\":{\"outlinewidth\":0,\"ticks\":\"\"},\"type\":\"mesh3d\"}],\"parcoords\":[{\"line\":{\"colorbar\":{\"outlinewidth\":0,\"ticks\":\"\"}},\"type\":\"parcoords\"}],\"pie\":[{\"automargin\":true,\"type\":\"pie\"}],\"scatter\":[{\"marker\":{\"colorbar\":{\"outlinewidth\":0,\"ticks\":\"\"}},\"type\":\"scatter\"}],\"scatter3d\":[{\"line\":{\"colorbar\":{\"outlinewidth\":0,\"ticks\":\"\"}},\"marker\":{\"colorbar\":{\"outlinewidth\":0,\"ticks\":\"\"}},\"type\":\"scatter3d\"}],\"scattercarpet\":[{\"marker\":{\"colorbar\":{\"outlinewidth\":0,\"ticks\":\"\"}},\"type\":\"scattercarpet\"}],\"scattergeo\":[{\"marker\":{\"colorbar\":{\"outlinewidth\":0,\"ticks\":\"\"}},\"type\":\"scattergeo\"}],\"scattergl\":[{\"marker\":{\"colorbar\":{\"outlinewidth\":0,\"ticks\":\"\"}},\"type\":\"scattergl\"}],\"scattermapbox\":[{\"marker\":{\"colorbar\":{\"outlinewidth\":0,\"ticks\":\"\"}},\"type\":\"scattermapbox\"}],\"scatterpolar\":[{\"marker\":{\"colorbar\":{\"outlinewidth\":0,\"ticks\":\"\"}},\"type\":\"scatterpolar\"}],\"scatterpolargl\":[{\"marker\":{\"colorbar\":{\"outlinewidth\":0,\"ticks\":\"\"}},\"type\":\"scatterpolargl\"}],\"scatterternary\":[{\"marker\":{\"colorbar\":{\"outlinewidth\":0,\"ticks\":\"\"}},\"type\":\"scatterternary\"}],\"surface\":[{\"colorbar\":{\"outlinewidth\":0,\"ticks\":\"\"},\"colorscale\":[[0.0,\"#0d0887\"],[0.1111111111111111,\"#46039f\"],[0.2222222222222222,\"#7201a8\"],[0.3333333333333333,\"#9c179e\"],[0.4444444444444444,\"#bd3786\"],[0.5555555555555556,\"#d8576b\"],[0.6666666666666666,\"#ed7953\"],[0.7777777777777778,\"#fb9f3a\"],[0.8888888888888888,\"#fdca26\"],[1.0,\"#f0f921\"]],\"type\":\"surface\"}],\"table\":[{\"cells\":{\"fill\":{\"color\":\"#EBF0F8\"},\"line\":{\"color\":\"white\"}},\"header\":{\"fill\":{\"color\":\"#C8D4E3\"},\"line\":{\"color\":\"white\"}},\"type\":\"table\"}]},\"layout\":{\"annotationdefaults\":{\"arrowcolor\":\"#2a3f5f\",\"arrowhead\":0,\"arrowwidth\":1},\"autotypenumbers\":\"strict\",\"coloraxis\":{\"colorbar\":{\"outlinewidth\":0,\"ticks\":\"\"}},\"colorscale\":{\"diverging\":[[0,\"#8e0152\"],[0.1,\"#c51b7d\"],[0.2,\"#de77ae\"],[0.3,\"#f1b6da\"],[0.4,\"#fde0ef\"],[0.5,\"#f7f7f7\"],[0.6,\"#e6f5d0\"],[0.7,\"#b8e186\"],[0.8,\"#7fbc41\"],[0.9,\"#4d9221\"],[1,\"#276419\"]],\"sequential\":[[0.0,\"#0d0887\"],[0.1111111111111111,\"#46039f\"],[0.2222222222222222,\"#7201a8\"],[0.3333333333333333,\"#9c179e\"],[0.4444444444444444,\"#bd3786\"],[0.5555555555555556,\"#d8576b\"],[0.6666666666666666,\"#ed7953\"],[0.7777777777777778,\"#fb9f3a\"],[0.8888888888888888,\"#fdca26\"],[1.0,\"#f0f921\"]],\"sequentialminus\":[[0.0,\"#0d0887\"],[0.1111111111111111,\"#46039f\"],[0.2222222222222222,\"#7201a8\"],[0.3333333333333333,\"#9c179e\"],[0.4444444444444444,\"#bd3786\"],[0.5555555555555556,\"#d8576b\"],[0.6666666666666666,\"#ed7953\"],[0.7777777777777778,\"#fb9f3a\"],[0.8888888888888888,\"#fdca26\"],[1.0,\"#f0f921\"]]},\"colorway\":[\"#636efa\",\"#EF553B\",\"#00cc96\",\"#ab63fa\",\"#FFA15A\",\"#19d3f3\",\"#FF6692\",\"#B6E880\",\"#FF97FF\",\"#FECB52\"],\"font\":{\"color\":\"#2a3f5f\"},\"geo\":{\"bgcolor\":\"white\",\"lakecolor\":\"white\",\"landcolor\":\"#E5ECF6\",\"showlakes\":true,\"showland\":true,\"subunitcolor\":\"white\"},\"hoverlabel\":{\"align\":\"left\"},\"hovermode\":\"closest\",\"mapbox\":{\"style\":\"light\"},\"paper_bgcolor\":\"white\",\"plot_bgcolor\":\"#E5ECF6\",\"polar\":{\"angularaxis\":{\"gridcolor\":\"white\",\"linecolor\":\"white\",\"ticks\":\"\"},\"bgcolor\":\"#E5ECF6\",\"radialaxis\":{\"gridcolor\":\"white\",\"linecolor\":\"white\",\"ticks\":\"\"}},\"scene\":{\"xaxis\":{\"backgroundcolor\":\"#E5ECF6\",\"gridcolor\":\"white\",\"gridwidth\":2,\"linecolor\":\"white\",\"showbackground\":true,\"ticks\":\"\",\"zerolinecolor\":\"white\"},\"yaxis\":{\"backgroundcolor\":\"#E5ECF6\",\"gridcolor\":\"white\",\"gridwidth\":2,\"linecolor\":\"white\",\"showbackground\":true,\"ticks\":\"\",\"zerolinecolor\":\"white\"},\"zaxis\":{\"backgroundcolor\":\"#E5ECF6\",\"gridcolor\":\"white\",\"gridwidth\":2,\"linecolor\":\"white\",\"showbackground\":true,\"ticks\":\"\",\"zerolinecolor\":\"white\"}},\"shapedefaults\":{\"line\":{\"color\":\"#2a3f5f\"}},\"ternary\":{\"aaxis\":{\"gridcolor\":\"white\",\"linecolor\":\"white\",\"ticks\":\"\"},\"baxis\":{\"gridcolor\":\"white\",\"linecolor\":\"white\",\"ticks\":\"\"},\"bgcolor\":\"#E5ECF6\",\"caxis\":{\"gridcolor\":\"white\",\"linecolor\":\"white\",\"ticks\":\"\"}},\"title\":{\"x\":0.05},\"xaxis\":{\"automargin\":true,\"gridcolor\":\"white\",\"linecolor\":\"white\",\"ticks\":\"\",\"title\":{\"standoff\":15},\"zerolinecolor\":\"white\",\"zerolinewidth\":2},\"yaxis\":{\"automargin\":true,\"gridcolor\":\"white\",\"linecolor\":\"white\",\"ticks\":\"\",\"title\":{\"standoff\":15},\"zerolinecolor\":\"white\",\"zerolinewidth\":2}}}},                        {\"responsive\": true}                    ).then(function(){\n",
              "                            \n",
              "var gd = document.getElementById('25513c27-0a18-4d56-b8fa-3419aa572b6d');\n",
              "var x = new MutationObserver(function (mutations, observer) {{\n",
              "        var display = window.getComputedStyle(gd).display;\n",
              "        if (!display || display === 'none') {{\n",
              "            console.log([gd, 'removed!']);\n",
              "            Plotly.purge(gd);\n",
              "            observer.disconnect();\n",
              "        }}\n",
              "}});\n",
              "\n",
              "// Listen for the removal of the full notebook cells\n",
              "var notebookContainer = gd.closest('#notebook-container');\n",
              "if (notebookContainer) {{\n",
              "    x.observe(notebookContainer, {childList: true});\n",
              "}}\n",
              "\n",
              "// Listen for the clearing of the current output cell\n",
              "var outputEl = gd.closest('.output');\n",
              "if (outputEl) {{\n",
              "    x.observe(outputEl, {childList: true});\n",
              "}}\n",
              "\n",
              "                        })                };                            </script>        </div>\n",
              "</body>\n",
              "</html>"
            ]
          },
          "metadata": {}
        }
      ]
    },
    {
      "cell_type": "markdown",
      "source": [
        "# **4. K-means**"
      ],
      "metadata": {
        "id": "rRaBuTzhdVEU"
      }
    },
    {
      "cell_type": "markdown",
      "source": [
        "Let's apply a machine learning approach to identify if there are any hidden segments we can find from clusters"
      ],
      "metadata": {
        "id": "cm3Pg2YBdnsp"
      }
    },
    {
      "cell_type": "code",
      "source": [
        "data_rfm = data_process[['Recency', 'Frequency', 'Monetary']]\n",
        "data_rfm.min()"
      ],
      "metadata": {
        "colab": {
          "base_uri": "https://localhost:8080/"
        },
        "id": "gfp7c3fJdYyx",
        "outputId": "2200e0d4-89e9-437d-abb8-a94e4d387c9f"
      },
      "execution_count": 40,
      "outputs": [
        {
          "output_type": "execute_result",
          "data": {
            "text/plain": [
              "Recency      1.00\n",
              "Frequency    1.00\n",
              "Monetary     9.59\n",
              "dtype: float64"
            ]
          },
          "metadata": {},
          "execution_count": 40
        }
      ]
    },
    {
      "cell_type": "code",
      "source": [
        "data_log = np.log(data_rfm)\n",
        "scaler = StandardScaler()\n",
        "scaler.fit(data_log)\n",
        "data_normalized = scaler.transform(data_log)\n",
        "data_normalized = pd.DataFrame(data=data_normalized, index=data_rfm.index, columns=data_rfm.columns)"
      ],
      "metadata": {
        "id": "xpnVemhleQ4Q"
      },
      "execution_count": 41,
      "outputs": []
    },
    {
      "cell_type": "code",
      "source": [
        "kmeans = KMeans(n_clusters=5, random_state=1) \n",
        "kmeans.fit(data_normalized)\n",
        "cluster_labels = kmeans.labels_\n",
        "data_rfm_k5 = data_rfm.assign(Cluster=cluster_labels)\n",
        "grouped = data_rfm_k5.groupby(['Cluster'])\n",
        "grouped.agg({\n",
        "    'Recency': 'mean',\n",
        "    'Frequency': 'mean',\n",
        "    'Monetary': ['mean', 'count']\n",
        "  }).round(1)"
      ],
      "metadata": {
        "colab": {
          "base_uri": "https://localhost:8080/",
          "height": 269
        },
        "id": "BAPsB2MmeUIh",
        "outputId": "566603ad-301d-435c-ee66-c259a708434a"
      },
      "execution_count": 42,
      "outputs": [
        {
          "output_type": "execute_result",
          "data": {
            "text/plain": [
              "        Recency Frequency Monetary       \n",
              "           mean      mean     mean  count\n",
              "Cluster                                  \n",
              "0          33.5       1.6    182.1   4668\n",
              "1         276.3       1.0    109.0  10121\n",
              "2         198.4       2.1    282.6  11910\n",
              "3         139.8       3.7    708.9   8656\n",
              "4          26.4       3.8    617.7   6076"
            ],
            "text/html": [
              "\n",
              "  <div id=\"df-34f33452-c8f3-404b-94d7-38eb29721800\">\n",
              "    <div class=\"colab-df-container\">\n",
              "      <div>\n",
              "<style scoped>\n",
              "    .dataframe tbody tr th:only-of-type {\n",
              "        vertical-align: middle;\n",
              "    }\n",
              "\n",
              "    .dataframe tbody tr th {\n",
              "        vertical-align: top;\n",
              "    }\n",
              "\n",
              "    .dataframe thead tr th {\n",
              "        text-align: left;\n",
              "    }\n",
              "\n",
              "    .dataframe thead tr:last-of-type th {\n",
              "        text-align: right;\n",
              "    }\n",
              "</style>\n",
              "<table border=\"1\" class=\"dataframe\">\n",
              "  <thead>\n",
              "    <tr>\n",
              "      <th></th>\n",
              "      <th>Recency</th>\n",
              "      <th>Frequency</th>\n",
              "      <th colspan=\"2\" halign=\"left\">Monetary</th>\n",
              "    </tr>\n",
              "    <tr>\n",
              "      <th></th>\n",
              "      <th>mean</th>\n",
              "      <th>mean</th>\n",
              "      <th>mean</th>\n",
              "      <th>count</th>\n",
              "    </tr>\n",
              "    <tr>\n",
              "      <th>Cluster</th>\n",
              "      <th></th>\n",
              "      <th></th>\n",
              "      <th></th>\n",
              "      <th></th>\n",
              "    </tr>\n",
              "  </thead>\n",
              "  <tbody>\n",
              "    <tr>\n",
              "      <th>0</th>\n",
              "      <td>33.5</td>\n",
              "      <td>1.6</td>\n",
              "      <td>182.1</td>\n",
              "      <td>4668</td>\n",
              "    </tr>\n",
              "    <tr>\n",
              "      <th>1</th>\n",
              "      <td>276.3</td>\n",
              "      <td>1.0</td>\n",
              "      <td>109.0</td>\n",
              "      <td>10121</td>\n",
              "    </tr>\n",
              "    <tr>\n",
              "      <th>2</th>\n",
              "      <td>198.4</td>\n",
              "      <td>2.1</td>\n",
              "      <td>282.6</td>\n",
              "      <td>11910</td>\n",
              "    </tr>\n",
              "    <tr>\n",
              "      <th>3</th>\n",
              "      <td>139.8</td>\n",
              "      <td>3.7</td>\n",
              "      <td>708.9</td>\n",
              "      <td>8656</td>\n",
              "    </tr>\n",
              "    <tr>\n",
              "      <th>4</th>\n",
              "      <td>26.4</td>\n",
              "      <td>3.8</td>\n",
              "      <td>617.7</td>\n",
              "      <td>6076</td>\n",
              "    </tr>\n",
              "  </tbody>\n",
              "</table>\n",
              "</div>\n",
              "      <button class=\"colab-df-convert\" onclick=\"convertToInteractive('df-34f33452-c8f3-404b-94d7-38eb29721800')\"\n",
              "              title=\"Convert this dataframe to an interactive table.\"\n",
              "              style=\"display:none;\">\n",
              "        \n",
              "  <svg xmlns=\"http://www.w3.org/2000/svg\" height=\"24px\"viewBox=\"0 0 24 24\"\n",
              "       width=\"24px\">\n",
              "    <path d=\"M0 0h24v24H0V0z\" fill=\"none\"/>\n",
              "    <path d=\"M18.56 5.44l.94 2.06.94-2.06 2.06-.94-2.06-.94-.94-2.06-.94 2.06-2.06.94zm-11 1L8.5 8.5l.94-2.06 2.06-.94-2.06-.94L8.5 2.5l-.94 2.06-2.06.94zm10 10l.94 2.06.94-2.06 2.06-.94-2.06-.94-.94-2.06-.94 2.06-2.06.94z\"/><path d=\"M17.41 7.96l-1.37-1.37c-.4-.4-.92-.59-1.43-.59-.52 0-1.04.2-1.43.59L10.3 9.45l-7.72 7.72c-.78.78-.78 2.05 0 2.83L4 21.41c.39.39.9.59 1.41.59.51 0 1.02-.2 1.41-.59l7.78-7.78 2.81-2.81c.8-.78.8-2.07 0-2.86zM5.41 20L4 18.59l7.72-7.72 1.47 1.35L5.41 20z\"/>\n",
              "  </svg>\n",
              "      </button>\n",
              "      \n",
              "  <style>\n",
              "    .colab-df-container {\n",
              "      display:flex;\n",
              "      flex-wrap:wrap;\n",
              "      gap: 12px;\n",
              "    }\n",
              "\n",
              "    .colab-df-convert {\n",
              "      background-color: #E8F0FE;\n",
              "      border: none;\n",
              "      border-radius: 50%;\n",
              "      cursor: pointer;\n",
              "      display: none;\n",
              "      fill: #1967D2;\n",
              "      height: 32px;\n",
              "      padding: 0 0 0 0;\n",
              "      width: 32px;\n",
              "    }\n",
              "\n",
              "    .colab-df-convert:hover {\n",
              "      background-color: #E2EBFA;\n",
              "      box-shadow: 0px 1px 2px rgba(60, 64, 67, 0.3), 0px 1px 3px 1px rgba(60, 64, 67, 0.15);\n",
              "      fill: #174EA6;\n",
              "    }\n",
              "\n",
              "    [theme=dark] .colab-df-convert {\n",
              "      background-color: #3B4455;\n",
              "      fill: #D2E3FC;\n",
              "    }\n",
              "\n",
              "    [theme=dark] .colab-df-convert:hover {\n",
              "      background-color: #434B5C;\n",
              "      box-shadow: 0px 1px 3px 1px rgba(0, 0, 0, 0.15);\n",
              "      filter: drop-shadow(0px 1px 2px rgba(0, 0, 0, 0.3));\n",
              "      fill: #FFFFFF;\n",
              "    }\n",
              "  </style>\n",
              "\n",
              "      <script>\n",
              "        const buttonEl =\n",
              "          document.querySelector('#df-34f33452-c8f3-404b-94d7-38eb29721800 button.colab-df-convert');\n",
              "        buttonEl.style.display =\n",
              "          google.colab.kernel.accessAllowed ? 'block' : 'none';\n",
              "\n",
              "        async function convertToInteractive(key) {\n",
              "          const element = document.querySelector('#df-34f33452-c8f3-404b-94d7-38eb29721800');\n",
              "          const dataTable =\n",
              "            await google.colab.kernel.invokeFunction('convertToInteractive',\n",
              "                                                     [key], {});\n",
              "          if (!dataTable) return;\n",
              "\n",
              "          const docLinkHtml = 'Like what you see? Visit the ' +\n",
              "            '<a target=\"_blank\" href=https://colab.research.google.com/notebooks/data_table.ipynb>data table notebook</a>'\n",
              "            + ' to learn more about interactive tables.';\n",
              "          element.innerHTML = '';\n",
              "          dataTable['output_type'] = 'display_data';\n",
              "          await google.colab.output.renderOutput(dataTable, element);\n",
              "          const docLink = document.createElement('div');\n",
              "          docLink.innerHTML = docLinkHtml;\n",
              "          element.appendChild(docLink);\n",
              "        }\n",
              "      </script>\n",
              "    </div>\n",
              "  </div>\n",
              "  "
            ]
          },
          "metadata": {},
          "execution_count": 42
        }
      ]
    },
    {
      "cell_type": "markdown",
      "source": [
        "To find which ‘k’ value is more suitable for our data we will use **elbow method**.\n",
        "\n"
      ],
      "metadata": {
        "id": "59smQ_XUejXb"
      }
    },
    {
      "cell_type": "markdown",
      "source": [
        "The elbow method runs k-means clustering on the dataset for a range of values of k.\n",
        "\n",
        "* Perform K-means clustering with all  these different values of K. For each of the K values, we calculate average distances to the centroid across all data points.\n",
        "\n",
        "* Plot these points and find the point where the average distance from the centroid falls suddenly (“Elbow”)."
      ],
      "metadata": {
        "id": "AAgCWteHT8mm"
      }
    },
    {
      "cell_type": "code",
      "source": [
        "sse = {}\n",
        "for k in range(1, 8):  \n",
        "    kmeans = KMeans(n_clusters=k, random_state=1)\n",
        "    kmeans.fit(data_normalized)\n",
        "    sse[k] = kmeans.inertia_\n",
        "plt.figure(figsize=(18,9))\n",
        "\n",
        "plt.title('The Elbow Method')\n",
        "plt.xlabel('k')\n",
        "plt.ylabel('SSE')\n",
        "sns.pointplot(x=list(sse.keys()), y=list(sse.values()))\n",
        "plt.show()"
      ],
      "metadata": {
        "colab": {
          "base_uri": "https://localhost:8080/",
          "height": 567
        },
        "id": "qSV5UM2femYQ",
        "outputId": "8f19a10e-058e-49c3-afb9-bf5b484b1c13"
      },
      "execution_count": 43,
      "outputs": [
        {
          "output_type": "display_data",
          "data": {
            "text/plain": [
              "<Figure size 1296x648 with 1 Axes>"
            ],
            "image/png": "[encoded data removed]"
          },
          "metadata": {
            "needs_background": "light"
          }
        }
      ]
    },
    {
      "cell_type": "code",
      "source": [
        "kmeans = KMeans(n_clusters=4, random_state=1) \n",
        "kmeans.fit(data_normalized)\n",
        "cluster_labels = kmeans.labels_\n",
        "data_rfm_k4 = data_rfm.assign(Cluster=cluster_labels)\n",
        "grouped = data_rfm_k4.groupby(['Cluster'])\n",
        "grouped.agg({\n",
        "    'Recency': 'mean',\n",
        "    'Frequency': 'mean',\n",
        "    'Monetary': ['mean', 'count']\n",
        "  }).round(1)"
      ],
      "metadata": {
        "colab": {
          "base_uri": "https://localhost:8080/",
          "height": 237
        },
        "id": "NuVCUa6Ifdvz",
        "outputId": "f2645399-fa6c-4961-d994-ddad6488e5f9"
      },
      "execution_count": 44,
      "outputs": [
        {
          "output_type": "execute_result",
          "data": {
            "text/plain": [
              "        Recency Frequency Monetary       \n",
              "           mean      mean     mean  count\n",
              "Cluster                                  \n",
              "0          77.4       4.2    788.9   9284\n",
              "1         262.3       1.1    113.9  11325\n",
              "2          27.6       2.2    255.5   6336\n",
              "3         194.8       2.4    343.5  14486"
            ],
            "text/html": [
              "\n",
              "  <div id=\"df-6644c2f8-25b5-43c0-ab88-86c34da92907\">\n",
              "    <div class=\"colab-df-container\">\n",
              "      <div>\n",
              "<style scoped>\n",
              "    .dataframe tbody tr th:only-of-type {\n",
              "        vertical-align: middle;\n",
              "    }\n",
              "\n",
              "    .dataframe tbody tr th {\n",
              "        vertical-align: top;\n",
              "    }\n",
              "\n",
              "    .dataframe thead tr th {\n",
              "        text-align: left;\n",
              "    }\n",
              "\n",
              "    .dataframe thead tr:last-of-type th {\n",
              "        text-align: right;\n",
              "    }\n",
              "</style>\n",
              "<table border=\"1\" class=\"dataframe\">\n",
              "  <thead>\n",
              "    <tr>\n",
              "      <th></th>\n",
              "      <th>Recency</th>\n",
              "      <th>Frequency</th>\n",
              "      <th colspan=\"2\" halign=\"left\">Monetary</th>\n",
              "    </tr>\n",
              "    <tr>\n",
              "      <th></th>\n",
              "      <th>mean</th>\n",
              "      <th>mean</th>\n",
              "      <th>mean</th>\n",
              "      <th>count</th>\n",
              "    </tr>\n",
              "    <tr>\n",
              "      <th>Cluster</th>\n",
              "      <th></th>\n",
              "      <th></th>\n",
              "      <th></th>\n",
              "      <th></th>\n",
              "    </tr>\n",
              "  </thead>\n",
              "  <tbody>\n",
              "    <tr>\n",
              "      <th>0</th>\n",
              "      <td>77.4</td>\n",
              "      <td>4.2</td>\n",
              "      <td>788.9</td>\n",
              "      <td>9284</td>\n",
              "    </tr>\n",
              "    <tr>\n",
              "      <th>1</th>\n",
              "      <td>262.3</td>\n",
              "      <td>1.1</td>\n",
              "      <td>113.9</td>\n",
              "      <td>11325</td>\n",
              "    </tr>\n",
              "    <tr>\n",
              "      <th>2</th>\n",
              "      <td>27.6</td>\n",
              "      <td>2.2</td>\n",
              "      <td>255.5</td>\n",
              "      <td>6336</td>\n",
              "    </tr>\n",
              "    <tr>\n",
              "      <th>3</th>\n",
              "      <td>194.8</td>\n",
              "      <td>2.4</td>\n",
              "      <td>343.5</td>\n",
              "      <td>14486</td>\n",
              "    </tr>\n",
              "  </tbody>\n",
              "</table>\n",
              "</div>\n",
              "      <button class=\"colab-df-convert\" onclick=\"convertToInteractive('df-6644c2f8-25b5-43c0-ab88-86c34da92907')\"\n",
              "              title=\"Convert this dataframe to an interactive table.\"\n",
              "              style=\"display:none;\">\n",
              "        \n",
              "  <svg xmlns=\"http://www.w3.org/2000/svg\" height=\"24px\"viewBox=\"0 0 24 24\"\n",
              "       width=\"24px\">\n",
              "    <path d=\"M0 0h24v24H0V0z\" fill=\"none\"/>\n",
              "    <path d=\"M18.56 5.44l.94 2.06.94-2.06 2.06-.94-2.06-.94-.94-2.06-.94 2.06-2.06.94zm-11 1L8.5 8.5l.94-2.06 2.06-.94-2.06-.94L8.5 2.5l-.94 2.06-2.06.94zm10 10l.94 2.06.94-2.06 2.06-.94-2.06-.94-.94-2.06-.94 2.06-2.06.94z\"/><path d=\"M17.41 7.96l-1.37-1.37c-.4-.4-.92-.59-1.43-.59-.52 0-1.04.2-1.43.59L10.3 9.45l-7.72 7.72c-.78.78-.78 2.05 0 2.83L4 21.41c.39.39.9.59 1.41.59.51 0 1.02-.2 1.41-.59l7.78-7.78 2.81-2.81c.8-.78.8-2.07 0-2.86zM5.41 20L4 18.59l7.72-7.72 1.47 1.35L5.41 20z\"/>\n",
              "  </svg>\n",
              "      </button>\n",
              "      \n",
              "  <style>\n",
              "    .colab-df-container {\n",
              "      display:flex;\n",
              "      flex-wrap:wrap;\n",
              "      gap: 12px;\n",
              "    }\n",
              "\n",
              "    .colab-df-convert {\n",
              "      background-color: #E8F0FE;\n",
              "      border: none;\n",
              "      border-radius: 50%;\n",
              "      cursor: pointer;\n",
              "      display: none;\n",
              "      fill: #1967D2;\n",
              "      height: 32px;\n",
              "      padding: 0 0 0 0;\n",
              "      width: 32px;\n",
              "    }\n",
              "\n",
              "    .colab-df-convert:hover {\n",
              "      background-color: #E2EBFA;\n",
              "      box-shadow: 0px 1px 2px rgba(60, 64, 67, 0.3), 0px 1px 3px 1px rgba(60, 64, 67, 0.15);\n",
              "      fill: #174EA6;\n",
              "    }\n",
              "\n",
              "    [theme=dark] .colab-df-convert {\n",
              "      background-color: #3B4455;\n",
              "      fill: #D2E3FC;\n",
              "    }\n",
              "\n",
              "    [theme=dark] .colab-df-convert:hover {\n",
              "      background-color: #434B5C;\n",
              "      box-shadow: 0px 1px 3px 1px rgba(0, 0, 0, 0.15);\n",
              "      filter: drop-shadow(0px 1px 2px rgba(0, 0, 0, 0.3));\n",
              "      fill: #FFFFFF;\n",
              "    }\n",
              "  </style>\n",
              "\n",
              "      <script>\n",
              "        const buttonEl =\n",
              "          document.querySelector('#df-6644c2f8-25b5-43c0-ab88-86c34da92907 button.colab-df-convert');\n",
              "        buttonEl.style.display =\n",
              "          google.colab.kernel.accessAllowed ? 'block' : 'none';\n",
              "\n",
              "        async function convertToInteractive(key) {\n",
              "          const element = document.querySelector('#df-6644c2f8-25b5-43c0-ab88-86c34da92907');\n",
              "          const dataTable =\n",
              "            await google.colab.kernel.invokeFunction('convertToInteractive',\n",
              "                                                     [key], {});\n",
              "          if (!dataTable) return;\n",
              "\n",
              "          const docLinkHtml = 'Like what you see? Visit the ' +\n",
              "            '<a target=\"_blank\" href=https://colab.research.google.com/notebooks/data_table.ipynb>data table notebook</a>'\n",
              "            + ' to learn more about interactive tables.';\n",
              "          element.innerHTML = '';\n",
              "          dataTable['output_type'] = 'display_data';\n",
              "          await google.colab.output.renderOutput(dataTable, element);\n",
              "          const docLink = document.createElement('div');\n",
              "          docLink.innerHTML = docLinkHtml;\n",
              "          element.appendChild(docLink);\n",
              "        }\n",
              "      </script>\n",
              "    </div>\n",
              "  </div>\n",
              "  "
            ]
          },
          "metadata": {},
          "execution_count": 44
        }
      ]
    },
    {
      "cell_type": "code",
      "source": [
        "# Plot mean purchase value per K-Means cluster\n",
        "plt.figure(figsize=(10, 5))\n",
        "grouped.agg({\n",
        "    'Recency': 'mean',\n",
        "    'Frequency': 'mean',\n",
        "    'Monetary': ['mean', 'count']\n",
        "  }).round(1)['Monetary', 'mean'].plot(kind='pie', legend=True)\n",
        "  \n",
        "plt.title('Average revenue per K-Means cluster');"
      ],
      "metadata": {
        "colab": {
          "base_uri": "https://localhost:8080/",
          "height": 319
        },
        "id": "btWMANXDg6dB",
        "outputId": "1d85f41f-8b65-4166-8151-9b3036f41b0b"
      },
      "execution_count": 45,
      "outputs": [
        {
          "output_type": "display_data",
          "data": {
            "text/plain": [
              "<Figure size 720x360 with 1 Axes>"
            ],
            "image/png": "[encoded data removed]"
          },
          "metadata": {}
        }
      ]
    },
    {
      "cell_type": "code",
      "source": [
        "# Plot customers per K-Means cluster\n",
        "plt.figure(figsize=(10, 5))\n",
        "grouped.agg({\n",
        "    'Recency': 'mean',\n",
        "    'Frequency': 'mean',\n",
        "    'Monetary': ['mean', 'count']\n",
        "  }).round(1)['Monetary', 'count'].plot(kind='pie', legend=True)\n",
        "\n",
        "plt.title('Customers per K-Means cluster');"
      ],
      "metadata": {
        "colab": {
          "base_uri": "https://localhost:8080/",
          "height": 319
        },
        "id": "k_nchpNhhmBj",
        "outputId": "0e985657-83c9-4a53-8afb-827680871320"
      },
      "execution_count": 46,
      "outputs": [
        {
          "output_type": "display_data",
          "data": {
            "text/plain": [
              "<Figure size 720x360 with 1 Axes>"
            ],
            "image/png": "[encoded data removed]"
          },
          "metadata": {}
        }
      ]
    },
    {
      "cell_type": "code",
      "source": [
        "# Plot recency per K-Means cluster\n",
        "plt.figure(figsize=(10, 5))\n",
        "grouped.agg({\n",
        "    'Recency': 'mean',\n",
        "    'Frequency': 'mean',\n",
        "    'Monetary': ['mean', 'count']\n",
        "  }).round(1)['Recency', 'mean'].plot(kind='pie', legend=True)\n",
        "\n",
        "plt.title('Recency per K-Means cluster');"
      ],
      "metadata": {
        "colab": {
          "base_uri": "https://localhost:8080/",
          "height": 319
        },
        "id": "ijU2KudfhxXC",
        "outputId": "10b2fe28-864b-4b2d-ecba-f746db56f5bd"
      },
      "execution_count": 47,
      "outputs": [
        {
          "output_type": "display_data",
          "data": {
            "text/plain": [
              "<Figure size 720x360 with 1 Axes>"
            ],
            "image/png": "[encoded data removed]"
          },
          "metadata": {}
        }
      ]
    },
    {
      "cell_type": "code",
      "source": [
        "data_melt = pd.melt(\n",
        "                    data_rfm_k4.reset_index(),               \n",
        "                    id_vars=['customer_unique_id', 'Cluster'],\n",
        "                    value_vars=['Recency', 'Frequency', 'Monetary'], \n",
        "                    var_name='Metric', value_name='Value'\n",
        "                    )\n",
        "data_melt.head(10)"
      ],
      "metadata": {
        "colab": {
          "base_uri": "https://localhost:8080/",
          "height": 363
        },
        "id": "VDWF0wdpfkq7",
        "outputId": "6e88e941-9a3e-462e-9f75-a1927b2d1e31"
      },
      "execution_count": 48,
      "outputs": [
        {
          "output_type": "execute_result",
          "data": {
            "text/plain": [
              "                 customer_unique_id  Cluster   Metric  Value\n",
              "0  0000b849f77a49e4a4ce2b2a4ca5be3f        3  Recency  170.0\n",
              "1  0000f46a3911fa3c0805444483337064        0  Recency  126.0\n",
              "2  0004bd2a26a76fe21f786e4fbd80607f        2  Recency    8.0\n",
              "3  00050ab1314c0e55a6ca13cf7181fecf        1  Recency  220.0\n",
              "4  0005ef4cd20d2893f0d9fbd94d3c0d97        1  Recency  482.0\n",
              "5  000949456b182f53c18b68d6babc79c1        1  Recency  106.0\n",
              "6  000a5ad9c4601d2bbdd9ed765d5213b3        3  Recency  168.0\n",
              "7  000c8bdb58a29e7115cfc257230fb21b        3  Recency  227.0\n",
              "8  000de6019bb59f34c099a907c151d855        2  Recency   24.0\n",
              "9  000ec5bff359e1c0ad76a81a45cb598f        2  Recency   53.0"
            ],
            "text/html": [
              "\n",
              "  <div id=\"df-025ac87f-4c7e-43c4-a01a-8fb87a71d4d2\">\n",
              "    <div class=\"colab-df-container\">\n",
              "      <div>\n",
              "<style scoped>\n",
              "    .dataframe tbody tr th:only-of-type {\n",
              "        vertical-align: middle;\n",
              "    }\n",
              "\n",
              "    .dataframe tbody tr th {\n",
              "        vertical-align: top;\n",
              "    }\n",
              "\n",
              "    .dataframe thead th {\n",
              "        text-align: right;\n",
              "    }\n",
              "</style>\n",
              "<table border=\"1\" class=\"dataframe\">\n",
              "  <thead>\n",
              "    <tr style=\"text-align: right;\">\n",
              "      <th></th>\n",
              "      <th>customer_unique_id</th>\n",
              "      <th>Cluster</th>\n",
              "      <th>Metric</th>\n",
              "      <th>Value</th>\n",
              "    </tr>\n",
              "  </thead>\n",
              "  <tbody>\n",
              "    <tr>\n",
              "      <th>0</th>\n",
              "      <td>0000b849f77a49e4a4ce2b2a4ca5be3f</td>\n",
              "      <td>3</td>\n",
              "      <td>Recency</td>\n",
              "      <td>170.0</td>\n",
              "    </tr>\n",
              "    <tr>\n",
              "      <th>1</th>\n",
              "      <td>0000f46a3911fa3c0805444483337064</td>\n",
              "      <td>0</td>\n",
              "      <td>Recency</td>\n",
              "      <td>126.0</td>\n",
              "    </tr>\n",
              "    <tr>\n",
              "      <th>2</th>\n",
              "      <td>0004bd2a26a76fe21f786e4fbd80607f</td>\n",
              "      <td>2</td>\n",
              "      <td>Recency</td>\n",
              "      <td>8.0</td>\n",
              "    </tr>\n",
              "    <tr>\n",
              "      <th>3</th>\n",
              "      <td>00050ab1314c0e55a6ca13cf7181fecf</td>\n",
              "      <td>1</td>\n",
              "      <td>Recency</td>\n",
              "      <td>220.0</td>\n",
              "    </tr>\n",
              "    <tr>\n",
              "      <th>4</th>\n",
              "      <td>0005ef4cd20d2893f0d9fbd94d3c0d97</td>\n",
              "      <td>1</td>\n",
              "      <td>Recency</td>\n",
              "      <td>482.0</td>\n",
              "    </tr>\n",
              "    <tr>\n",
              "      <th>5</th>\n",
              "      <td>000949456b182f53c18b68d6babc79c1</td>\n",
              "      <td>1</td>\n",
              "      <td>Recency</td>\n",
              "      <td>106.0</td>\n",
              "    </tr>\n",
              "    <tr>\n",
              "      <th>6</th>\n",
              "      <td>000a5ad9c4601d2bbdd9ed765d5213b3</td>\n",
              "      <td>3</td>\n",
              "      <td>Recency</td>\n",
              "      <td>168.0</td>\n",
              "    </tr>\n",
              "    <tr>\n",
              "      <th>7</th>\n",
              "      <td>000c8bdb58a29e7115cfc257230fb21b</td>\n",
              "      <td>3</td>\n",
              "      <td>Recency</td>\n",
              "      <td>227.0</td>\n",
              "    </tr>\n",
              "    <tr>\n",
              "      <th>8</th>\n",
              "      <td>000de6019bb59f34c099a907c151d855</td>\n",
              "      <td>2</td>\n",
              "      <td>Recency</td>\n",
              "      <td>24.0</td>\n",
              "    </tr>\n",
              "    <tr>\n",
              "      <th>9</th>\n",
              "      <td>000ec5bff359e1c0ad76a81a45cb598f</td>\n",
              "      <td>2</td>\n",
              "      <td>Recency</td>\n",
              "      <td>53.0</td>\n",
              "    </tr>\n",
              "  </tbody>\n",
              "</table>\n",
              "</div>\n",
              "      <button class=\"colab-df-convert\" onclick=\"convertToInteractive('df-025ac87f-4c7e-43c4-a01a-8fb87a71d4d2')\"\n",
              "              title=\"Convert this dataframe to an interactive table.\"\n",
              "              style=\"display:none;\">\n",
              "        \n",
              "  <svg xmlns=\"http://www.w3.org/2000/svg\" height=\"24px\"viewBox=\"0 0 24 24\"\n",
              "       width=\"24px\">\n",
              "    <path d=\"M0 0h24v24H0V0z\" fill=\"none\"/>\n",
              "    <path d=\"M18.56 5.44l.94 2.06.94-2.06 2.06-.94-2.06-.94-.94-2.06-.94 2.06-2.06.94zm-11 1L8.5 8.5l.94-2.06 2.06-.94-2.06-.94L8.5 2.5l-.94 2.06-2.06.94zm10 10l.94 2.06.94-2.06 2.06-.94-2.06-.94-.94-2.06-.94 2.06-2.06.94z\"/><path d=\"M17.41 7.96l-1.37-1.37c-.4-.4-.92-.59-1.43-.59-.52 0-1.04.2-1.43.59L10.3 9.45l-7.72 7.72c-.78.78-.78 2.05 0 2.83L4 21.41c.39.39.9.59 1.41.59.51 0 1.02-.2 1.41-.59l7.78-7.78 2.81-2.81c.8-.78.8-2.07 0-2.86zM5.41 20L4 18.59l7.72-7.72 1.47 1.35L5.41 20z\"/>\n",
              "  </svg>\n",
              "      </button>\n",
              "      \n",
              "  <style>\n",
              "    .colab-df-container {\n",
              "      display:flex;\n",
              "      flex-wrap:wrap;\n",
              "      gap: 12px;\n",
              "    }\n",
              "\n",
              "    .colab-df-convert {\n",
              "      background-color: #E8F0FE;\n",
              "      border: none;\n",
              "      border-radius: 50%;\n",
              "      cursor: pointer;\n",
              "      display: none;\n",
              "      fill: #1967D2;\n",
              "      height: 32px;\n",
              "      padding: 0 0 0 0;\n",
              "      width: 32px;\n",
              "    }\n",
              "\n",
              "    .colab-df-convert:hover {\n",
              "      background-color: #E2EBFA;\n",
              "      box-shadow: 0px 1px 2px rgba(60, 64, 67, 0.3), 0px 1px 3px 1px rgba(60, 64, 67, 0.15);\n",
              "      fill: #174EA6;\n",
              "    }\n",
              "\n",
              "    [theme=dark] .colab-df-convert {\n",
              "      background-color: #3B4455;\n",
              "      fill: #D2E3FC;\n",
              "    }\n",
              "\n",
              "    [theme=dark] .colab-df-convert:hover {\n",
              "      background-color: #434B5C;\n",
              "      box-shadow: 0px 1px 3px 1px rgba(0, 0, 0, 0.15);\n",
              "      filter: drop-shadow(0px 1px 2px rgba(0, 0, 0, 0.3));\n",
              "      fill: #FFFFFF;\n",
              "    }\n",
              "  </style>\n",
              "\n",
              "      <script>\n",
              "        const buttonEl =\n",
              "          document.querySelector('#df-025ac87f-4c7e-43c4-a01a-8fb87a71d4d2 button.colab-df-convert');\n",
              "        buttonEl.style.display =\n",
              "          google.colab.kernel.accessAllowed ? 'block' : 'none';\n",
              "\n",
              "        async function convertToInteractive(key) {\n",
              "          const element = document.querySelector('#df-025ac87f-4c7e-43c4-a01a-8fb87a71d4d2');\n",
              "          const dataTable =\n",
              "            await google.colab.kernel.invokeFunction('convertToInteractive',\n",
              "                                                     [key], {});\n",
              "          if (!dataTable) return;\n",
              "\n",
              "          const docLinkHtml = 'Like what you see? Visit the ' +\n",
              "            '<a target=\"_blank\" href=https://colab.research.google.com/notebooks/data_table.ipynb>data table notebook</a>'\n",
              "            + ' to learn more about interactive tables.';\n",
              "          element.innerHTML = '';\n",
              "          dataTable['output_type'] = 'display_data';\n",
              "          await google.colab.output.renderOutput(dataTable, element);\n",
              "          const docLink = document.createElement('div');\n",
              "          docLink.innerHTML = docLinkHtml;\n",
              "          element.appendChild(docLink);\n",
              "        }\n",
              "      </script>\n",
              "    </div>\n",
              "  </div>\n",
              "  "
            ]
          },
          "metadata": {},
          "execution_count": 48
        }
      ]
    }
  ]
}